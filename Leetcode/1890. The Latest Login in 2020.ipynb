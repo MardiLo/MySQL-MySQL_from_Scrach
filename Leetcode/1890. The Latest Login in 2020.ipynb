{
 "cells": [
  {
   "cell_type": "markdown",
   "metadata": {},
   "source": [
    "`# Window Function`"
   ]
  },
  {
   "cell_type": "markdown",
   "metadata": {},
   "source": [
    "Table: Logins\n",
    "\n",
    "| Column Name    | Type     |\n",
    "|----------------|----------|\n",
    "| user_id        | int      |\n",
    "| time_stamp     | datetime |\n",
    "\n",
    "(user_id, time_stamp) is the primary key for this table.  \n",
    "Each row contains information about the login time for the user with ID user_id."
   ]
  },
  {
   "cell_type": "markdown",
   "metadata": {},
   "source": [
    "Write an SQL query to report the **latest** login for all users in the year `2020`. Do **not** include the users who did not login in `2020`.\n",
    "\n",
    "Return the result table in any order.\n",
    "\n",
    "The query result format is in the following example."
   ]
  },
  {
   "cell_type": "markdown",
   "metadata": {},
   "source": [
    "**Example 1:**\n",
    "\n",
    "Input:   \n",
    "Logins table:\n",
    "\n",
    "| user_id | time_stamp          |\n",
    "|---------|---------------------|\n",
    "| 6       | 2020-06-30 15:06:07 |\n",
    "| 6       | 2021-04-21 14:06:06 |\n",
    "| 6       | 2019-03-07 00:18:15 |\n",
    "| 8       | 2020-02-01 05:10:53 |\n",
    "| 8       | 2020-12-30 00:46:50 |\n",
    "| 2       | 2020-01-16 02:49:50 |\n",
    "| 2       | 2019-08-25 07:59:08 |\n",
    "| 14      | 2019-07-14 09:00:00 |\n",
    "| 14      | 2021-01-06 11:59:59 |\n",
    "\n",
    "Output: \n",
    "\n",
    "| user_id | last_stamp          |\n",
    "|---------|---------------------|\n",
    "| 6       | 2020-06-30 15:06:07 |\n",
    "| 8       | 2020-12-30 00:46:50 |\n",
    "| 2       | 2020-01-16 02:49:50 |\n",
    "\n",
    "Explanation:   \n",
    "User 6 logged into their account 3 times but only once in 2020, so we include this login in the result table.  \n",
    "User 8 logged into their account 2 times in 2020, once in February and once in December. We include only the latest one (December) in the result table.  \n",
    "User 2 logged into their account 2 times but only once in 2020, so we include this login in the result table.  \n",
    "User 14 did not login in 2020, so we do not include them in the result table."
   ]
  },
  {
   "cell_type": "code",
   "execution_count": null,
   "metadata": {},
   "outputs": [],
   "source": [
    "SELECT user_id, MAX(time_stamp) last_stamp\n",
    "FROM Logins\n",
    "WHERE time_stamp BETWEEN '2020-01-01 00:00:00'\n",
    "\t\tAND '2020-12-31 23:59:59'\n",
    "GROUP BY user_id"
   ]
  }
 ],
 "metadata": {
  "kernelspec": {
   "display_name": "Python 3.10.4 ('leetcode')",
   "language": "python",
   "name": "python3"
  },
  "language_info": {
   "codemirror_mode": {
    "name": "ipython",
    "version": 3
   },
   "file_extension": ".py",
   "mimetype": "text/x-python",
   "name": "python",
   "nbconvert_exporter": "python",
   "pygments_lexer": "ipython3",
   "version": "3.10.4"
  },
  "vscode": {
   "interpreter": {
    "hash": "21d8332eb27bea95342760850bd7426f517b6a483537194bbba87e10eeabf6ff"
   }
  }
 },
 "nbformat": 4,
 "nbformat_minor": 4
}
