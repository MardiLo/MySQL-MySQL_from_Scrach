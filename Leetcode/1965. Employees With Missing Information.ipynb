{
 "cells": [
  {
   "cell_type": "markdown",
   "metadata": {},
   "source": [
    "`# Join` `# Union All`"
   ]
  },
  {
   "cell_type": "markdown",
   "metadata": {},
   "source": [
    "Table: Employees\n",
    "\n",
    "| Column Name | Type    |\n",
    "|-------------|---------|\n",
    "| employee_id | int     |\n",
    "| name        | varchar |\n",
    "\n",
    "employee_id is the primary key for this table.  \n",
    "Each row of this table indicates the name of the employee whose ID is employee_id."
   ]
  },
  {
   "cell_type": "markdown",
   "metadata": {},
   "source": [
    "Table: Salaries\n",
    "\n",
    "| Column Name | Type    |\n",
    "|-------------|---------|\n",
    "| employee_id | int     |\n",
    "| salary      | int     |\n",
    "\n",
    "employee_id is the primary key for this table.  \n",
    "Each row of this table indicates the salary of the employee whose ID is employee_id."
   ]
  },
  {
   "cell_type": "markdown",
   "metadata": {},
   "source": [
    "Write an SQL query to report the IDs of all the employees with **missing information**. The information of an employee is missing if:\n",
    "\n",
    "The employee's **name** is missing, or\n",
    "The employee's **salary** is missing.\n",
    "Return the result table ordered by `employee_id` **in ascending order**.\n",
    "\n",
    "The query result format is in the following example."
   ]
  },
  {
   "cell_type": "markdown",
   "metadata": {},
   "source": [
    "**Example 1:**\n",
    "\n",
    "Input:   \n",
    "Employees table:\n",
    "\n",
    "| employee_id | name     |\n",
    "|-------------|----------|\n",
    "| 2           | Crew     |\n",
    "| 4           | Haven    |\n",
    "| 5           | Kristian |\n",
    "\n",
    "Salaries table:\n",
    "\n",
    "| employee_id | salary |\n",
    "|-------------|--------|\n",
    "| 5           | 76071  |\n",
    "| 1           | 22517  |\n",
    "| 4           | 63539  |\n",
    "\n",
    "Output: \n",
    "\n",
    "| employee_id |\n",
    "|-------------|\n",
    "| 1           |\n",
    "| 2           |\n",
    "\n",
    "Explanation:   \n",
    "Employees 1, 2, 4, and 5 are working at this company.  \n",
    "The name of employee 1 is missing.  \n",
    "The salary of employee 2 is missing.  "
   ]
  },
  {
   "cell_type": "markdown",
   "metadata": {},
   "source": [
    "##### Solution"
   ]
  },
  {
   "cell_type": "code",
   "execution_count": null,
   "metadata": {},
   "outputs": [],
   "source": [
    "# Use full outer join\n",
    "SELECT ISNULL(e.employee_id, s.employee_id) employee_id\n",
    "FROM Employees e\n",
    "FULL OUTER JOIN Salaries s ON e.employee_id = s.employee_id\n",
    "WHERE e.employee_id IS NULL\n",
    "\tOR s.employee_id IS NULL\n",
    "ORDER BY employee_id\n",
    "\n",
    "# Use Union All function\n",
    "SELECT employee_id\n",
    "FROM Employees\n",
    "WHERE employee_id NOT IN (\n",
    "\t\tSELECT employee_id\n",
    "\t\tFROM Salaries\n",
    "\t\t)\n",
    "\n",
    "UNION ALL\n",
    "\n",
    "SELECT employee_id\n",
    "FROM Salaries\n",
    "WHERE employee_id NOT IN (\n",
    "\t\tSELECT employee_id\n",
    "\t\tFROM Employees\n",
    "\t\t)\n",
    "ORDER BY employee_id\n",
    "\n"
   ]
  }
 ],
 "metadata": {
  "kernelspec": {
   "display_name": "Python 3.10.4 ('leetcode')",
   "language": "python",
   "name": "python3"
  },
  "language_info": {
   "codemirror_mode": {
    "name": "ipython",
    "version": 3
   },
   "file_extension": ".py",
   "mimetype": "text/x-python",
   "name": "python",
   "nbconvert_exporter": "python",
   "pygments_lexer": "ipython3",
   "version": "3.10.4"
  },
  "vscode": {
   "interpreter": {
    "hash": "21d8332eb27bea95342760850bd7426f517b6a483537194bbba87e10eeabf6ff"
   }
  }
 },
 "nbformat": 4,
 "nbformat_minor": 4
}
