{
 "cells": [
  {
   "attachments": {},
   "cell_type": "markdown",
   "metadata": {},
   "source": [
    "`# Subquery` `# Window Function`"
   ]
  },
  {
   "attachments": {},
   "cell_type": "markdown",
   "metadata": {},
   "source": [
    "Table: Insurance\n",
    "\n",
    "| Column Name | Type  |\n",
    "|-------------|-------|\n",
    "| pid         | int   |\n",
    "| tiv_2015    | float |\n",
    "| tiv_2016    | float |\n",
    "| lat         | float |\n",
    "| lon         | float |\n",
    "\n",
    "pid is the primary key column for this table.  \n",
    "Each row of this table contains information about one policy where:  \n",
    "pid is the policyholder's policy ID.  \n",
    "tiv_2015 is the total investment value in 2015 and tiv_2016 is the total investment value in 2016.  \n",
    "lat is the latitude of the policy holder's city. It's guaranteed that lat is not NULL.  \n",
    "lon is the longitude of the policy holder's city. It's guaranteed that lon is not NULL."
   ]
  },
  {
   "attachments": {},
   "cell_type": "markdown",
   "metadata": {},
   "source": [
    "Write an SQL query to report the sum of all total investment values in 2016 `tiv_2016`, for all policyholders who:\n",
    "\n",
    "- have the same `tiv_2015` value as one or more other policyholders, and  \n",
    "- are not located in the same city like any other policyholder (i.e., the (`lat, lon`) attribute pairs must be unique).  \n",
    "Round `tiv_2016` to **two decimal places**.\n",
    "\n",
    "The query result format is in the following example."
   ]
  },
  {
   "attachments": {},
   "cell_type": "markdown",
   "metadata": {},
   "source": [
    "**Example 1:**\n",
    "\n",
    "Input:   \n",
    "Insurance table:\n",
    "\n",
    "| pid | tiv_2015 | tiv_2016 | lat | lon |\n",
    "|-----|----------|----------|-----|-----|\n",
    "| 1   | 10       | 5        | 10  | 10  |\n",
    "| 2   | 20       | 20       | 20  | 20  |\n",
    "| 3   | 10       | 30       | 20  | 20  |\n",
    "| 4   | 10       | 40       | 40  | 40  |\n",
    "\n",
    "Output: \n",
    "\n",
    "| tiv_2016 |\n",
    "|----------|\n",
    "| 45.00    |\n",
    "\n",
    "Explanation: \n",
    "The first record in the table, like the last record, meets both of the two criteria.  \n",
    "The tiv_2015 value 10 is the same as the third and fourth records, and its location is unique.  \n",
    "\n",
    "The second record does not meet any of the two criteria. Its tiv_2015 is not like any other policyholders and its location is the same as the third record, which makes the third record fail, too.\n",
    "So, the result is the sum of tiv_2016 of the first and last record, which is 45."
   ]
  },
  {
   "cell_type": "markdown",
   "metadata": {},
   "source": [
    "##### Solution"
   ]
  },
  {
   "cell_type": "code",
   "execution_count": null,
   "metadata": {},
   "outputs": [],
   "source": [
    "# Use window function\n",
    "SELECT ROUND(SUM(tiv_2016), 2) tiv_2016\n",
    "FROM (\n",
    "\tSELECT tiv_2016, \n",
    "\t       COUNT(*) OVER (PARTITION BY lat, lon) cnt1, \n",
    "\t       COUNT(*) OVER (PARTITION BY tiv_2015) cnt2\n",
    "\tFROM Insurance\n",
    "\t) i\n",
    "WHERE cnt1 = 1\n",
    "\tAND cnt2 > 1\n",
    "\n",
    "# Use group by\n",
    "WITH t1\n",
    "AS (\n",
    "\tSELECT CONCAT(lat, lon) geo\n",
    "\tFROM Insurance\n",
    "\tGROUP BY lat, lon\n",
    "\tHAVING COUNT(CONCAT(lat, lon)) = 1\n",
    "\t), t2\n",
    "AS (\n",
    "\tSELECT tiv_2015\n",
    "\tFROM Insurance\n",
    "\tGROUP BY tiv_2015\n",
    "\tHAVING COUNT(tiv_2015) > 1\n",
    "\t)\n",
    "SELECT ROUND(SUM(tiv_2016), 2) tiv_2016\n",
    "FROM Insurance\n",
    "WHERE CONCAT(lat, lon) IN (\n",
    "\t\tSELECT geo\n",
    "\t\tFROM t1\n",
    "\t\t)\n",
    "\tAND tiv_2015 IN (\n",
    "\t\tSELECT tiv_2015\n",
    "\t\tFROM t2\n",
    "\t\t)"
   ]
  }
 ],
 "metadata": {
  "kernelspec": {
   "display_name": "Python 3.10.4 ('leetcode')",
   "language": "python",
   "name": "python3"
  },
  "language_info": {
   "codemirror_mode": {
    "name": "ipython",
    "version": 3
   },
   "file_extension": ".py",
   "mimetype": "text/x-python",
   "name": "python",
   "nbconvert_exporter": "python",
   "pygments_lexer": "ipython3",
   "version": "3.10.4"
  },
  "vscode": {
   "interpreter": {
    "hash": "21d8332eb27bea95342760850bd7426f517b6a483537194bbba87e10eeabf6ff"
   }
  }
 },
 "nbformat": 4,
 "nbformat_minor": 4
}
