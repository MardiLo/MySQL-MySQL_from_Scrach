{
 "cells": [
  {
   "attachments": {},
   "cell_type": "markdown",
   "metadata": {},
   "source": [
    "`# Subquery` `# Window Function`"
   ]
  },
  {
   "attachments": {},
   "cell_type": "markdown",
   "metadata": {},
   "source": [
    "Table: MyNumbers\n",
    "\n",
    "| Column Name | Type |\n",
    "|-------------|------|\n",
    "| num         | int  |\n",
    "\n",
    "There is no primary key for this table. It may contain duplicates.\n",
    "Each row of this table contains an integer."
   ]
  },
  {
   "attachments": {},
   "cell_type": "markdown",
   "metadata": {},
   "source": [
    "A **single number** is a number that appeared only once in the `MyNumbers` table.\n",
    "\n",
    "Write an SQL query to report the largest **single number**. If there is no **single number**, report `null`.\n",
    "\n",
    "The query result format is in the following example."
   ]
  },
  {
   "attachments": {},
   "cell_type": "markdown",
   "metadata": {},
   "source": [
    "**Example 1:**\n",
    "\n",
    "Input:   \n",
    "MyNumbers table:\n",
    "\n",
    "| num |\n",
    "|-----|\n",
    "| 8   |\n",
    "| 8   |\n",
    "| 3   |\n",
    "| 3   |\n",
    "| 1   |\n",
    "| 4   |\n",
    "| 5   |\n",
    "| 6   |\n",
    "\n",
    "Output: \n",
    "\n",
    "| num |\n",
    "|-----|\n",
    "| 6   |\n",
    "\n",
    "Explanation: The single numbers are 1, 4, 5, and 6.  \n",
    "Since 6 is the largest single number, we return it.\n",
    "\n",
    "**Example 2:**\n",
    "\n",
    "Input:   \n",
    "MyNumbers table:\n",
    "\n",
    "| num |\n",
    "|-----|\n",
    "| 8   |\n",
    "| 8   |\n",
    "| 7   |\n",
    "| 7   |\n",
    "| 3   |\n",
    "| 3   |\n",
    "| 3   |\n",
    "\n",
    "Output: \n",
    "\n",
    "| num  |\n",
    "|------|\n",
    "| null |\n",
    "\n",
    "Explanation: There are no single numbers in the input table so we return null."
   ]
  },
  {
   "cell_type": "markdown",
   "metadata": {},
   "source": [
    "##### Solution"
   ]
  },
  {
   "cell_type": "code",
   "execution_count": null,
   "metadata": {},
   "outputs": [],
   "source": [
    "SELECT MAX(num) num\n",
    "FROM (\n",
    "\tSELECT num, COUNT(num) cnt\n",
    "\tFROM MyNumbers\n",
    "\tGROUP BY num\n",
    "\t) t\n",
    "WHERE t.cnt = 1"
   ]
  }
 ],
 "metadata": {
  "kernelspec": {
   "display_name": "Python 3.10.4 ('leetcode')",
   "language": "python",
   "name": "python3"
  },
  "language_info": {
   "codemirror_mode": {
    "name": "ipython",
    "version": 3
   },
   "file_extension": ".py",
   "mimetype": "text/x-python",
   "name": "python",
   "nbconvert_exporter": "python",
   "pygments_lexer": "ipython3",
   "version": "3.10.4"
  },
  "vscode": {
   "interpreter": {
    "hash": "21d8332eb27bea95342760850bd7426f517b6a483537194bbba87e10eeabf6ff"
   }
  }
 },
 "nbformat": 4,
 "nbformat_minor": 4
}
