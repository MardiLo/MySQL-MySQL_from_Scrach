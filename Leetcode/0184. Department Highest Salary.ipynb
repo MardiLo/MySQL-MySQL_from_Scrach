{
 "cells": [
  {
   "cell_type": "markdown",
   "metadata": {},
   "source": [
    "`# Window Function`"
   ]
  },
  {
   "cell_type": "markdown",
   "metadata": {},
   "source": [
    "Table: Employee\n",
    "\n",
    "| Column Name  | Type    |\n",
    "|--------------|---------|\n",
    "| id           | int     |\n",
    "| name         | varchar |\n",
    "| salary       | int     |\n",
    "| departmentId | int     |\n",
    "\n",
    "id is the primary key column for this table.  \n",
    "departmentId is a foreign key of the ID from the Department table.  \n",
    "Each row of this table indicates the ID, name, and salary of an employee. It also contains the ID of their department."
   ]
  },
  {
   "cell_type": "markdown",
   "metadata": {},
   "source": [
    "Table: Department\n",
    "\n",
    "\n",
    "| Column Name | Type    |\n",
    "|-------------|---------|\n",
    "| id          | int     |\n",
    "| name        | varchar |\n",
    "\n",
    "id is the primary key column for this table.  \n",
    "Each row of this table indicates the ID of a department and its name."
   ]
  },
  {
   "cell_type": "markdown",
   "metadata": {},
   "source": [
    "Write an SQL query to find employees who have the highest salary in each of the departments.\n",
    "\n",
    "Return the result table in any order.\n",
    "\n",
    "The query result format is in the following example."
   ]
  },
  {
   "cell_type": "markdown",
   "metadata": {},
   "source": [
    "**Example 1:**\n",
    "\n",
    "Input:   \n",
    "Employee table:  \n",
    "\n",
    "| id | name  | salary | departmentId |\n",
    "|----|-------|--------|--------------|\n",
    "| 1  | Joe   | 70000  | 1            |\n",
    "| 2  | Jim   | 90000  | 1            |\n",
    "| 3  | Henry | 80000  | 2            |\n",
    "| 4  | Sam   | 60000  | 2            |\n",
    "| 5  | Max   | 90000  | 1            |\n",
    "\n",
    "Department table:\n",
    "\n",
    "| id | name  |\n",
    "|----|-------|\n",
    "| 1  | IT    |\n",
    "| 2  | Sales |\n",
    "\n",
    "Output: \n",
    "\n",
    "| Department | Employee | Salary |\n",
    "|------------|----------|--------|\n",
    "| IT         | Jim      | 90000  |\n",
    "| Sales      | Henry    | 80000  |\n",
    "| IT         | Max      | 90000  |\n",
    "\n",
    "Explanation: Max and Jim both have the highest salary in the IT department and Henry has the highest salary in the Sales department.\n"
   ]
  },
  {
   "cell_type": "markdown",
   "metadata": {},
   "source": [
    "##### Solution"
   ]
  },
  {
   "cell_type": "code",
   "execution_count": null,
   "metadata": {},
   "outputs": [],
   "source": [
    "SELECT d.name Department, e.name Employee, e.salary Salary\n",
    "FROM Department d\n",
    "JOIN (\n",
    "\tSELECT name, salary, departmentId, DENSE_RANK() OVER (PARTITION BY departmentId ORDER BY salary DESC) drk\n",
    "\tFROM Employee\n",
    "\t) e ON d.id = e.departmentId\n",
    "\tAND drk = 1\n"
   ]
  }
 ],
 "metadata": {
  "kernelspec": {
   "display_name": "Python 3.10.4 ('leetcode')",
   "language": "python",
   "name": "python3"
  },
  "language_info": {
   "codemirror_mode": {
    "name": "ipython",
    "version": 3
   },
   "file_extension": ".py",
   "mimetype": "text/x-python",
   "name": "python",
   "nbconvert_exporter": "python",
   "pygments_lexer": "ipython3",
   "version": "3.10.4"
  },
  "vscode": {
   "interpreter": {
    "hash": "21d8332eb27bea95342760850bd7426f517b6a483537194bbba87e10eeabf6ff"
   }
  }
 },
 "nbformat": 4,
 "nbformat_minor": 4
}
