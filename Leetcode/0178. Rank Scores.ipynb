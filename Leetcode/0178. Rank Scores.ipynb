{
 "cells": [
  {
   "cell_type": "markdown",
   "metadata": {},
   "source": [
    "`# Window Function`"
   ]
  },
  {
   "cell_type": "markdown",
   "metadata": {},
   "source": [
    "Table: Scores\n",
    "\n",
    "| Column Name | Type    |\n",
    "|-------------|---------|\n",
    "| id          | int     |\n",
    "| score       | decimal |\n",
    "\n",
    "id is the primary key for this table.  \n",
    "Each row of this table contains the score of a game. Score is a floating point value with two decimal places."
   ]
  },
  {
   "cell_type": "markdown",
   "metadata": {},
   "source": [
    "Write an SQL query to rank the scores. The ranking should be calculated according to the following rules:\n",
    "\n",
    "- The scores should be ranked from the highest to the lowest.\n",
    "- If there is a tie between two scores, both should have the same ranking.\n",
    "- After a tie, the next ranking number should be the next consecutive integer value. In other words, there should be no holes between ranks.\n",
    "\n",
    "Return the result table ordered by `score` in descending order.\n",
    "\n",
    "The query result format is in the following example."
   ]
  },
  {
   "cell_type": "markdown",
   "metadata": {},
   "source": [
    "**Example 1:**\n",
    "\n",
    "Input:   \n",
    "Scores table:\n",
    "\n",
    "| id | score |\n",
    "|----|-------|\n",
    "| 1  | 3.50  |\n",
    "| 2  | 3.65  |\n",
    "| 3  | 4.00  |\n",
    "| 4  | 3.85  |\n",
    "| 5  | 4.00  |\n",
    "| 6  | 3.65  |\n",
    "\n",
    "Output: \n",
    "\n",
    "| score | rank |\n",
    "|-------|------|\n",
    "| 4.00  | 1    |\n",
    "| 4.00  | 1    |\n",
    "| 3.85  | 2    |\n",
    "| 3.65  | 3    |\n",
    "| 3.65  | 3    |\n",
    "| 3.50  | 4    |\n"
   ]
  },
  {
   "cell_type": "code",
   "execution_count": null,
   "metadata": {},
   "outputs": [],
   "source": [
    "SELECT score, DENSE_RANK() OVER (ORDER BY score DESC) rank\n",
    "FROM Scores"
   ]
  }
 ],
 "metadata": {
  "kernelspec": {
   "display_name": "Python 3.10.4 ('leetcode')",
   "language": "python",
   "name": "python3"
  },
  "language_info": {
   "codemirror_mode": {
    "name": "ipython",
    "version": 3
   },
   "file_extension": ".py",
   "mimetype": "text/x-python",
   "name": "python",
   "nbconvert_exporter": "python",
   "pygments_lexer": "ipython3",
   "version": "3.10.4"
  },
  "vscode": {
   "interpreter": {
    "hash": "21d8332eb27bea95342760850bd7426f517b6a483537194bbba87e10eeabf6ff"
   }
  }
 },
 "nbformat": 4,
 "nbformat_minor": 4
}
