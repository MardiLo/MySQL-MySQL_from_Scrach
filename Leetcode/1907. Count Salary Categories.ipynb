{
 "cells": [
  {
   "attachments": {},
   "cell_type": "markdown",
   "metadata": {},
   "source": [
    "`# Case` `# Union All` `# Window Function`"
   ]
  },
  {
   "attachments": {},
   "cell_type": "markdown",
   "metadata": {},
   "source": [
    "Table: Accounts\n",
    "\n",
    "| Column Name | Type |\n",
    "|-------------|------|\n",
    "| account_id  | int  |\n",
    "| income      | int  |\n",
    "\n",
    "account_id is the primary key for this table.  \n",
    "Each row contains information about the monthly income for one bank account."
   ]
  },
  {
   "attachments": {},
   "cell_type": "markdown",
   "metadata": {},
   "source": [
    "Write an SQL query to report the number of bank accounts of each salary category. The salary categories are:\n",
    "\n",
    "- `\"Low Salary\"`: All the salaries **strictly less** than `$20000`.\n",
    "- `\"Average Salary\"`: All the salaries in the **inclusive** range `[$20000, $50000]`.\n",
    "- `\"High Salary\"`: All the salaries **strictly greater** than `$50000`.\n",
    "\n",
    "The result table **must** contain all three categories. If there are no accounts in a category, then report `0`.\n",
    "\n",
    "Return the result table in **any order**.\n",
    "\n",
    "The query result format is in the following example."
   ]
  },
  {
   "attachments": {},
   "cell_type": "markdown",
   "metadata": {},
   "source": [
    "**Example 1:**\n",
    "\n",
    "Input: \n",
    "Accounts table:\n",
    "\n",
    "| account_id | income |\n",
    "|------------|--------|\n",
    "| 3          | 108939 |\n",
    "| 2          | 12747  |\n",
    "| 8          | 87709  |\n",
    "| 6          | 91796  |\n",
    "\n",
    "Output: \n",
    "\n",
    "| category       | accounts_count |\n",
    "|----------------|----------------|\n",
    "| Low Salary     | 1              |\n",
    "| Average Salary | 0              |\n",
    "| High Salary    | 3              |\n",
    "\n",
    "Explanation:   \n",
    "Low Salary: Account 2.  \n",
    "Average Salary: No accounts.  \n",
    "High Salary: Accounts 3, 6, and 8."
   ]
  },
  {
   "cell_type": "markdown",
   "metadata": {},
   "source": [
    "##### Solution"
   ]
  },
  {
   "cell_type": "code",
   "execution_count": null,
   "metadata": {},
   "outputs": [],
   "source": [
    "SELECT 'Low Salary' category, SUM(IIF(income < 20000, 1, 0)) accounts_count\n",
    "FROM Accounts\n",
    "\n",
    "UNION ALL\n",
    "\n",
    "SELECT 'Average Salary' category, SUM(IIF(income >= 20000 AND income <= 50000, 1, 0)) accounts_count\n",
    "FROM Accounts\n",
    "\n",
    "UNION ALL\n",
    "\n",
    "SELECT 'High Salary' category, SUM(IIF(income > 50000, 1, 0)) accounts_count\n",
    "FROM Accounts"
   ]
  }
 ],
 "metadata": {
  "kernelspec": {
   "display_name": "Python 3.10.4 ('leetcode')",
   "language": "python",
   "name": "python3"
  },
  "language_info": {
   "codemirror_mode": {
    "name": "ipython",
    "version": 3
   },
   "file_extension": ".py",
   "mimetype": "text/x-python",
   "name": "python",
   "nbconvert_exporter": "python",
   "pygments_lexer": "ipython3",
   "version": "3.10.4"
  },
  "vscode": {
   "interpreter": {
    "hash": "21d8332eb27bea95342760850bd7426f517b6a483537194bbba87e10eeabf6ff"
   }
  }
 },
 "nbformat": 4,
 "nbformat_minor": 4
}
