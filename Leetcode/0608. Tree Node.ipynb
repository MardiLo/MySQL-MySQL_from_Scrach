{
 "cells": [
  {
   "cell_type": "markdown",
   "metadata": {},
   "source": [
    "`# Case`"
   ]
  },
  {
   "cell_type": "markdown",
   "metadata": {},
   "source": [
    "Table: Tree\n",
    "\n",
    "| Column Name | Type |\n",
    "|-------------|------|\n",
    "| id          | int  |\n",
    "| p_id        | int  |\n",
    "\n",
    "id is the primary key column for this table.  \n",
    "Each row of this table contains information about the id of a node and the id of its parent node in a tree.  \n",
    "The given structure is always a valid tree."
   ]
  },
  {
   "cell_type": "markdown",
   "metadata": {},
   "source": [
    "Each node in the tree can be one of three types:\n",
    "\n",
    "- \"Leaf\": if the node is a leaf node.\n",
    "- \"Root\": if the node is the root of the tree.\n",
    "- \"Inner\": If the node is neither a leaf node nor a root node.\n",
    "\n",
    "Write an SQL query to report the type of each node in the tree.\n",
    "\n",
    "Return the result table ordered by `id` in **ascending order**.\n",
    "\n",
    "The query result format is in the following example."
   ]
  },
  {
   "cell_type": "markdown",
   "metadata": {},
   "source": [
    "**Example 1:**  \n",
    "![Image of leetcode 0608 problem example 1](https://assets.leetcode.com/uploads/2021/10/22/tree1.jpg)  \n",
    "Input:   \n",
    "Tree table:  \n",
    "\n",
    "| id | p_id |\n",
    "|----|------|\n",
    "| 1  | null |\n",
    "| 2  | 1    |\n",
    "| 3  | 1    |\n",
    "| 4  | 2    |\n",
    "| 5  | 2    |\n",
    "\n",
    "Output: \n",
    "\n",
    "| id | type  |\n",
    "|----|-------|\n",
    "| 1  | Root  |\n",
    "| 2  | Inner |\n",
    "| 3  | Leaf  |\n",
    "| 4  | Leaf  |\n",
    "| 5  | Leaf  |\n",
    "\n",
    "Explanation:   \n",
    "Node 1 is the root node because its parent node is null and it has child nodes 2 and 3.  \n",
    "Node 2 is an inner node because it has parent node 1 and child node 4 and 5.  \n",
    "Nodes 3, 4, and 5 are leaf nodes because they have parent nodes and they do not have child nodes. \n",
    "\n",
    "\n",
    "**Example 2:**  \n",
    "![Image of leetcode 0608 problem example 2](https://assets.leetcode.com/uploads/2021/10/22/tree2.jpg)  \n",
    "\n",
    "Input:   \n",
    "Tree table:  \n",
    "\n",
    "| id | p_id |\n",
    "|----|------|\n",
    "| 1  | null |\n",
    "\n",
    "Output: \n",
    "\n",
    "| id | type  |\n",
    "|----|-------|\n",
    "| 1  | Root  |\n",
    "\n",
    "Explanation: If there is only one node on the tree, you only need to output its root attributes."
   ]
  },
  {
   "cell_type": "markdown",
   "metadata": {},
   "source": [
    "##### Solution"
   ]
  },
  {
   "cell_type": "code",
   "execution_count": null,
   "metadata": {},
   "outputs": [],
   "source": [
    "SELECT id\n",
    "\t,CASE \n",
    "\t\tWHEN p_id IS NULL THEN 'Root'\n",
    "\t\tWHEN id IN (\n",
    "\t\t\t\tSELECT DISTINCT p_id\n",
    "\t\t\t\tFROM Tree\n",
    "\t\t\t\t) THEN 'Inner'\n",
    "\t\tELSE 'Leaf'\n",
    "\t\tEND type\n",
    "FROM Tree\n",
    "ORDER BY id"
   ]
  }
 ],
 "metadata": {
  "kernelspec": {
   "display_name": "Python 3.10.4 ('leetcode')",
   "language": "python",
   "name": "python3"
  },
  "language_info": {
   "codemirror_mode": {
    "name": "ipython",
    "version": 3
   },
   "file_extension": ".py",
   "mimetype": "text/x-python",
   "name": "python",
   "nbconvert_exporter": "python",
   "pygments_lexer": "ipython3",
   "version": "3.10.4"
  },
  "vscode": {
   "interpreter": {
    "hash": "21d8332eb27bea95342760850bd7426f517b6a483537194bbba87e10eeabf6ff"
   }
  }
 },
 "nbformat": 4,
 "nbformat_minor": 4
}
