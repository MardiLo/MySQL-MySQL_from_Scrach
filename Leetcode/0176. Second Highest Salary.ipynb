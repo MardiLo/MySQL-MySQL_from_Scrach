{
 "cells": [
  {
   "cell_type": "markdown",
   "metadata": {},
   "source": [
    "`# Window Function`"
   ]
  },
  {
   "cell_type": "markdown",
   "metadata": {},
   "source": [
    "Table: Employee\n",
    "\n",
    "| Column Name | Type |\n",
    "|-------------|------|\n",
    "| id          | int  |\n",
    "| salary      | int  |\n",
    "\n",
    "id is the primary key column for this table.  \n",
    "Each row of this table contains information about the salary of an employee."
   ]
  },
  {
   "cell_type": "markdown",
   "metadata": {},
   "source": [
    "Write an SQL query to report the second highest salary from the `Employee` table. If there is no second highest salary, the query should report `null`.\n",
    "\n",
    "The query result format is in the following example."
   ]
  },
  {
   "cell_type": "markdown",
   "metadata": {},
   "source": [
    "**Example 1:**\n",
    "\n",
    "Input:   \n",
    "Employee table:\n",
    "\n",
    "| id | salary |\n",
    "|----|--------|\n",
    "| 1  | 100    |\n",
    "| 2  | 200    |\n",
    "| 3  | 300    |\n",
    "\n",
    "Output: \n",
    "\n",
    "| SecondHighestSalary |\n",
    "|---------------------|\n",
    "| 200                 |\n",
    "\n",
    "\n",
    "**Example 2:**\n",
    "\n",
    "Input:   \n",
    "Employee table:  \n",
    "\n",
    "| id | salary |\n",
    "|----|--------|\n",
    "| 1  | 100    |\n",
    "\n",
    "Output: \n",
    "\n",
    "| SecondHighestSalary |\n",
    "|---------------------|\n",
    "| null                |"
   ]
  },
  {
   "cell_type": "code",
   "execution_count": null,
   "metadata": {},
   "outputs": [],
   "source": [
    "# Use ranking function (here, use MAX to produce null if there's no record)\n",
    "SELECT MAX(salary) SecondHighestSalary\n",
    "FROM (\n",
    "\tSELECT salary, DENSE_RANK() OVER (ORDER BY salary DESC) drk\n",
    "\tFROM Employee\n",
    "\t) t\n",
    "WHERE t.drk = 2\n",
    "\n",
    "# Use aggregate functino\n",
    "SELECT MAX(salary) SecondHighestSalary\n",
    "FROM Employee\n",
    "WHERE salary != (\n",
    "\t\tSELECT MAX(salary)\n",
    "\t\tFROM Employee\n",
    "\t\t)"
   ]
  }
 ],
 "metadata": {
  "kernelspec": {
   "display_name": "Python 3.10.4 ('leetcode')",
   "language": "python",
   "name": "python3"
  },
  "language_info": {
   "codemirror_mode": {
    "name": "ipython",
    "version": 3
   },
   "file_extension": ".py",
   "mimetype": "text/x-python",
   "name": "python",
   "nbconvert_exporter": "python",
   "pygments_lexer": "ipython3",
   "version": "3.10.4"
  },
  "vscode": {
   "interpreter": {
    "hash": "21d8332eb27bea95342760850bd7426f517b6a483537194bbba87e10eeabf6ff"
   }
  }
 },
 "nbformat": 4,
 "nbformat_minor": 4
}
