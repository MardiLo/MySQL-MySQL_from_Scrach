{
 "cells": [
  {
   "cell_type": "markdown",
   "metadata": {},
   "source": [
    "`# Window Function`"
   ]
  },
  {
   "cell_type": "markdown",
   "metadata": {},
   "source": [
    "Table: Visits\n",
    "\n",
    "| Column Name | Type    |\n",
    "|-------------|---------|\n",
    "| visit_id    | int     |\n",
    "| customer_id | int     |\n",
    "\n",
    "visit_id is the primary key for this table.  \n",
    "This table contains information about the customers who visited the mall."
   ]
  },
  {
   "cell_type": "markdown",
   "metadata": {},
   "source": [
    "Table: Transactions\n",
    "\n",
    "| Column Name    | Type    |\n",
    "|----------------|---------|\n",
    "| transaction_id | int     |\n",
    "| visit_id       | int     |\n",
    "| amount         | int     |\n",
    "\n",
    "transaction_id is the primary key for this table.  \n",
    "This table contains information about the transactions made during the visit_id."
   ]
  },
  {
   "cell_type": "markdown",
   "metadata": {},
   "source": [
    "Write an SQL query to find the IDs of the users who visited without making any transactions and the number of times they made these types of visits.\n",
    "\n",
    "Return the result table sorted in any order.\n",
    "\n",
    "The query result format is in the following example."
   ]
  },
  {
   "cell_type": "markdown",
   "metadata": {},
   "source": [
    "**Example 1:**\n",
    "\n",
    "Input:   \n",
    "Visits  \n",
    "\n",
    "| visit_id | customer_id |\n",
    "|----------|-------------|\n",
    "| 1        | 23          |\n",
    "| 2        | 9           |\n",
    "| 4        | 30          |\n",
    "| 5        | 54          |\n",
    "| 6        | 96          |\n",
    "| 7        | 54          |\n",
    "| 8        | 54          |\n",
    "\n",
    "Transactions\n",
    "\n",
    "| transaction_id | visit_id | amount |\n",
    "|----------------|----------|--------|\n",
    "| 2              | 5        | 310    |\n",
    "| 3              | 5        | 300    |\n",
    "| 9              | 5        | 200    |\n",
    "| 12             | 1        | 910    |\n",
    "| 13             | 2        | 970    |\n",
    "\n",
    "Output: \n",
    "\n",
    "| customer_id | count_no_trans |\n",
    "|-------------|----------------|\n",
    "| 54          | 2              |\n",
    "| 30          | 1              |\n",
    "| 96          | 1              |\n",
    "\n",
    "Explanation: \n",
    "Customer with id = 23 visited the mall once and made one transaction during the visit with id = 12.  \n",
    "Customer with id = 9 visited the mall once and made one transaction during the visit with id = 13.  \n",
    "Customer with id = 30 visited the mall once and did not make any transactions.  \n",
    "Customer with id = 54 visited the mall three times. During 2 visits they did not make any transactions, and during one visit they made 3 transactions.  \n",
    "Customer with id = 96 visited the mall once and did not make any transactions.  \n",
    "As we can see, users with IDs 30 and 96 visited the mall one time without making any transactions. Also, user 54 visited the mall twice and did not make any transactions.\n"
   ]
  },
  {
   "cell_type": "code",
   "execution_count": null,
   "metadata": {},
   "outputs": [],
   "source": [
    "SELECT customer_id, COUNT(customer_id) count_no_trans\n",
    "FROM Visits\n",
    "WHERE visit_id NOT IN (\n",
    "\t\tSELECT DISTINCT visit_id\n",
    "\t\tFROM Transactions\n",
    "\t\t)\n",
    "GROUP BY customer_id"
   ]
  }
 ],
 "metadata": {
  "kernelspec": {
   "display_name": "Python 3.10.4 ('leetcode')",
   "language": "python",
   "name": "python3"
  },
  "language_info": {
   "codemirror_mode": {
    "name": "ipython",
    "version": 3
   },
   "file_extension": ".py",
   "mimetype": "text/x-python",
   "name": "python",
   "nbconvert_exporter": "python",
   "pygments_lexer": "ipython3",
   "version": "3.10.4"
  },
  "vscode": {
   "interpreter": {
    "hash": "21d8332eb27bea95342760850bd7426f517b6a483537194bbba87e10eeabf6ff"
   }
  }
 },
 "nbformat": 4,
 "nbformat_minor": 4
}
