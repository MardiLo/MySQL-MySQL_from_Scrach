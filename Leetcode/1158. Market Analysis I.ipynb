{
 "cells": [
  {
   "cell_type": "markdown",
   "metadata": {},
   "source": [
    "`# Join`"
   ]
  },
  {
   "cell_type": "markdown",
   "metadata": {},
   "source": [
    "Table: Users\n",
    "\n",
    "| Column Name    | Type    |\n",
    "|----------------|---------|\n",
    "| user_id        | int     |\n",
    "| join_date      | date    |\n",
    "| favorite_brand | varchar |\n",
    "\n",
    "user_id is the primary key of this table.  \n",
    "This table has the info of the users of an online shopping website where users can sell and buy items."
   ]
  },
  {
   "cell_type": "markdown",
   "metadata": {},
   "source": [
    "Table: Orders\n",
    "\n",
    "| Column Name   | Type    |\n",
    "|---------------|---------|\n",
    "| order_id      | int     |\n",
    "| order_date    | date    |\n",
    "| item_id       | int     |\n",
    "| buyer_id      | int     |\n",
    "| seller_id     | int     |\n",
    "\n",
    "order_id is the primary key of this table.  \n",
    "item_id is a foreign key to the Items table.  \n",
    "buyer_id and seller_id are foreign keys to the Users table."
   ]
  },
  {
   "cell_type": "markdown",
   "metadata": {},
   "source": [
    "Table: Items\n",
    "\n",
    "| Column Name   | Type    |\n",
    "|---------------|---------|\n",
    "| item_id       | int     |\n",
    "| item_brand    | varchar |\n",
    "item_id is the primary key of this table."
   ]
  },
  {
   "cell_type": "markdown",
   "metadata": {},
   "source": [
    "Write an SQL query to find for each user, the join date and the number of orders they made as a buyer in `2019`.\n",
    "\n",
    "Return the result table in any order.\n",
    "\n",
    "The query result format is in the following example."
   ]
  },
  {
   "cell_type": "markdown",
   "metadata": {},
   "source": [
    "**Example 1:**\n",
    "\n",
    "Input:   \n",
    "Users table:\n",
    "\n",
    "| user_id | join_date  | favorite_brand |\n",
    "|---------|------------|----------------|\n",
    "| 1       | 2018-01-01 | Lenovo         |\n",
    "| 2       | 2018-02-09 | Samsung        |\n",
    "| 3       | 2018-01-19 | LG             |\n",
    "| 4       | 2018-05-21 | HP             |\n",
    "\n",
    "Orders table:\n",
    "\n",
    "| order_id | order_date | item_id | buyer_id | seller_id |\n",
    "|----------|------------|---------|----------|-----------|\n",
    "| 1        | 2019-08-01 | 4       | 1        | 2         |\n",
    "| 2        | 2018-08-02 | 2       | 1        | 3         |\n",
    "| 3        | 2019-08-03 | 3       | 2        | 3         |\n",
    "| 4        | 2018-08-04 | 1       | 4        | 2         |\n",
    "| 5        | 2018-08-04 | 1       | 3        | 4         |\n",
    "| 6        | 2019-08-05 | 2       | 2        | 4         |\n",
    "\n",
    "Items table:\n",
    "\n",
    "| item_id | item_brand |\n",
    "|---------|------------|\n",
    "| 1       | Samsung    |\n",
    "| 2       | Lenovo     |\n",
    "| 3       | LG         |\n",
    "| 4       | HP         |\n",
    "\n",
    "Output: \n",
    "\n",
    "| buyer_id  | join_date  | orders_in_2019 |\n",
    "|-----------|------------|----------------|\n",
    "| 1         | 2018-01-01 | 1              |\n",
    "| 2         | 2018-02-09 | 2              |\n",
    "| 3         | 2018-01-19 | 0              |\n",
    "| 4         | 2018-05-21 | 0              |\n"
   ]
  },
  {
   "cell_type": "markdown",
   "metadata": {},
   "source": [
    "##### Solution"
   ]
  },
  {
   "cell_type": "code",
   "execution_count": null,
   "metadata": {},
   "outputs": [],
   "source": [
    "SELECT u.user_id buyer_id, u.join_date, ISNULL(COUNT(o.buyer_id), 0) orders_in_2019\n",
    "FROM Users u\n",
    "LEFT JOIN Orders o ON u.user_id = o.buyer_id\n",
    "\tAND order_date BETWEEN '2019-01-01'\n",
    "\t\tAND '2019-12-31'\n",
    "GROUP BY u.user_id, u.join_date"
   ]
  }
 ],
 "metadata": {
  "kernelspec": {
   "display_name": "Python 3.10.4 ('leetcode')",
   "language": "python",
   "name": "python3"
  },
  "language_info": {
   "codemirror_mode": {
    "name": "ipython",
    "version": 3
   },
   "file_extension": ".py",
   "mimetype": "text/x-python",
   "name": "python",
   "nbconvert_exporter": "python",
   "pygments_lexer": "ipython3",
   "version": "3.10.4"
  },
  "vscode": {
   "interpreter": {
    "hash": "21d8332eb27bea95342760850bd7426f517b6a483537194bbba87e10eeabf6ff"
   }
  }
 },
 "nbformat": 4,
 "nbformat_minor": 4
}
