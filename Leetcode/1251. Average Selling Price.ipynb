{
 "cells": [
  {
   "attachments": {},
   "cell_type": "markdown",
   "metadata": {},
   "source": [
    "`# Join` `# Window Function`"
   ]
  },
  {
   "attachments": {},
   "cell_type": "markdown",
   "metadata": {},
   "source": [
    "Table: Prices\n",
    "\n",
    "| Column Name   | Type    |\n",
    "|---------------|---------|\n",
    "| product_id    | int     |\n",
    "| start_date    | date    |\n",
    "| end_date      | date    |\n",
    "| price         | int     |\n",
    "\n",
    "(product_id, start_date, end_date) is the primary key for this table.  \n",
    "Each row of this table indicates the price of the product_id in the period from start_date to end_date.  \n",
    "For each product_id there will be no two overlapping periods. That means there will be no two intersecting periods for the same product_id."
   ]
  },
  {
   "attachments": {},
   "cell_type": "markdown",
   "metadata": {},
   "source": [
    "Table: UnitsSold\n",
    "\n",
    "| Column Name   | Type    |\n",
    "|---------------|---------|\n",
    "| product_id    | int     |\n",
    "| purchase_date | date    |\n",
    "| units         | int     |\n",
    "\n",
    "There is no primary key for this table, it may contain duplicates.  \n",
    "Each row of this table indicates the date, units, and product_id of each product sold. "
   ]
  },
  {
   "attachments": {},
   "cell_type": "markdown",
   "metadata": {},
   "source": [
    "Write an SQL query to find the average selling price for each product. `average_price` should be **rounded to 2 decimal places**.\n",
    "\n",
    "Return the result table in **any order**.\n",
    "\n",
    "The query result format is in the following example."
   ]
  },
  {
   "attachments": {},
   "cell_type": "markdown",
   "metadata": {},
   "source": [
    "**Example 1:**\n",
    "\n",
    "Input:   \n",
    "Prices table:\n",
    "\n",
    "| product_id | start_date | end_date   | price  |\n",
    "|------------|------------|------------|--------|\n",
    "| 1          | 2019-02-17 | 2019-02-28 | 5      |\n",
    "| 1          | 2019-03-01 | 2019-03-22 | 20     |\n",
    "| 2          | 2019-02-01 | 2019-02-20 | 15     |\n",
    "| 2          | 2019-02-21 | 2019-03-31 | 30     |\n",
    "\n",
    "UnitsSold table:\n",
    "\n",
    "| product_id | purchase_date | units |\n",
    "|------------|---------------|-------|\n",
    "| 1          | 2019-02-25    | 100   |\n",
    "| 1          | 2019-03-01    | 15    |\n",
    "| 2          | 2019-02-10    | 200   |\n",
    "| 2          | 2019-03-22    | 30    |\n",
    "\n",
    "Output: \n",
    "\n",
    "| product_id | average_price |\n",
    "|------------|---------------|\n",
    "| 1          | 6.96          |\n",
    "| 2          | 16.96         |\n",
    "\n",
    "Explanation: \n",
    "Average selling price = Total Price of Product / Number of products sold.  \n",
    "Average selling price for product 1 = ((100 * 5) + (15 * 20)) / 115 = 6.96  \n",
    "Average selling price for product 2 = ((200 * 15) + (30 * 30)) / 230 = 16.96"
   ]
  },
  {
   "cell_type": "markdown",
   "metadata": {},
   "source": [
    "##### Solution"
   ]
  },
  {
   "cell_type": "code",
   "execution_count": null,
   "metadata": {},
   "outputs": [],
   "source": [
    "SELECT p.product_id, ROUND(SUM(p.price*u.units)*1.0 / SUM(u.units)*1.0, 2) average_price\n",
    "FROM Prices p\n",
    "JOIN UnitsSold u ON p.product_id = u.product_id\n",
    "\tAND u.purchase_date >= p.start_date\n",
    "\tAND u.purchase_date <= p.end_date\n",
    "GROUP BY p.product_id"
   ]
  }
 ],
 "metadata": {
  "kernelspec": {
   "display_name": "Python 3.10.4 ('leetcode')",
   "language": "python",
   "name": "python3"
  },
  "language_info": {
   "codemirror_mode": {
    "name": "ipython",
    "version": 3
   },
   "file_extension": ".py",
   "mimetype": "text/x-python",
   "name": "python",
   "nbconvert_exporter": "python",
   "pygments_lexer": "ipython3",
   "version": "3.10.4"
  },
  "vscode": {
   "interpreter": {
    "hash": "21d8332eb27bea95342760850bd7426f517b6a483537194bbba87e10eeabf6ff"
   }
  }
 },
 "nbformat": 4,
 "nbformat_minor": 4
}
