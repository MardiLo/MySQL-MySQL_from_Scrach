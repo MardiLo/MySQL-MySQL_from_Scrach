{
 "cells": [
  {
   "cell_type": "markdown",
   "metadata": {},
   "source": [
    "`# Where`"
   ]
  },
  {
   "cell_type": "markdown",
   "metadata": {},
   "source": [
    "Table: Followers\n",
    "\n",
    "\n",
    "| Column Name | Type |\n",
    "|-------------|------|\n",
    "| user_id     | int  |\n",
    "| follower_id | int  |\n",
    "\n",
    "(user_id, follower_id) is the primary key for this table.  \n",
    "This table contains the IDs of a user and a follower in a social media app where the follower follows the user."
   ]
  },
  {
   "cell_type": "markdown",
   "metadata": {},
   "source": [
    "Write an SQL query that will, for each user, return the number of followers.\n",
    "\n",
    "Return the result table ordered by `user_id`.\n",
    "\n",
    "The query result format is in the following example."
   ]
  },
  {
   "cell_type": "markdown",
   "metadata": {},
   "source": [
    "**Example 1:**\n",
    "\n",
    "Input:   \n",
    "Followers table:  \n",
    "\n",
    "| user_id | follower_id |\n",
    "|---------|-------------|\n",
    "| 0       | 1           |\n",
    "| 1       | 0           |\n",
    "| 2       | 0           |\n",
    "| 2       | 1           |\n",
    "\n",
    "Output: \n",
    "\n",
    "| user_id | followers_count|\n",
    "|---------|----------------|\n",
    "| 0       | 1              |\n",
    "| 1       | 1              |\n",
    "| 2       | 2              |\n",
    "\n",
    "Explanation: \n",
    "The followers of 0 are {1}  \n",
    "The followers of 1 are {0}  \n",
    "The followers of 2 are {0,1}\n"
   ]
  },
  {
   "cell_type": "code",
   "execution_count": null,
   "metadata": {},
   "outputs": [],
   "source": [
    "SELECT user_id, COUNT(follower_id) followers_count\n",
    "FROM Followers\n",
    "GROUP BY user_id"
   ]
  }
 ],
 "metadata": {
  "kernelspec": {
   "display_name": "Python 3.10.4 ('leetcode')",
   "language": "python",
   "name": "python3"
  },
  "language_info": {
   "codemirror_mode": {
    "name": "ipython",
    "version": 3
   },
   "file_extension": ".py",
   "mimetype": "text/x-python",
   "name": "python",
   "nbconvert_exporter": "python",
   "pygments_lexer": "ipython3",
   "version": "3.10.4"
  },
  "vscode": {
   "interpreter": {
    "hash": "21d8332eb27bea95342760850bd7426f517b6a483537194bbba87e10eeabf6ff"
   }
  }
 },
 "nbformat": 4,
 "nbformat_minor": 4
}
