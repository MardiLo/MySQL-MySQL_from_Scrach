{
 "cells": [
  {
   "attachments": {},
   "cell_type": "markdown",
   "metadata": {},
   "source": [
    "`# Window Function`"
   ]
  },
  {
   "attachments": {},
   "cell_type": "markdown",
   "metadata": {},
   "source": [
    "Table: Delivery\n",
    "\n",
    "| Column Name                 | Type    |\n",
    "|-----------------------------|---------|\n",
    "| delivery_id                 | int     |\n",
    "| customer_id                 | int     |\n",
    "| order_date                  | date    |\n",
    "| customer_pref_delivery_date | date    |\n",
    "\n",
    "delivery_id is the primary key of this table.  \n",
    "The table holds information about food delivery to customers that make orders at some date and specify a preferred delivery date (on the same order date or after it)."
   ]
  },
  {
   "attachments": {},
   "cell_type": "markdown",
   "metadata": {},
   "source": [
    "If the customer's preferred delivery date is the same as the order date, then the order is called **immediate**; otherwise, it is called **scheduled**.\n",
    "\n",
    "The **first order** of a customer is the order with the earliest order date that the customer made. It is guaranteed that a customer has precisely one first order.\n",
    "\n",
    "Write an SQL query to find the percentage of immediate orders in the first orders of all customers, **rounded to 2 decimal places**.\n",
    "\n",
    "The query result format is in the following example."
   ]
  },
  {
   "attachments": {},
   "cell_type": "markdown",
   "metadata": {},
   "source": [
    "**Example 1:**\n",
    "\n",
    "Input: \n",
    "Delivery table:\n",
    "\n",
    "| delivery_id | customer_id | order_date | customer_pref_delivery_date |\n",
    "|-------------|-------------|------------|-----------------------------|\n",
    "| 1           | 1           | 2019-08-01 | 2019-08-02                  |\n",
    "| 2           | 2           | 2019-08-02 | 2019-08-02                  |\n",
    "| 3           | 1           | 2019-08-11 | 2019-08-12                  |\n",
    "| 4           | 3           | 2019-08-24 | 2019-08-24                  |\n",
    "| 5           | 3           | 2019-08-21 | 2019-08-22                  |\n",
    "| 6           | 2           | 2019-08-11 | 2019-08-13                  |\n",
    "| 7           | 4           | 2019-08-09 | 2019-08-09                  |\n",
    "\n",
    "Output: \n",
    "\n",
    "| immediate_percentage |\n",
    "|----------------------|\n",
    "| 50.00                |\n",
    "\n",
    "Explanation:   \n",
    "The customer id 1 has a first order with delivery id 1 and it is scheduled.  \n",
    "The customer id 2 has a first order with delivery id 2 and it is immediate.  \n",
    "The customer id 3 has a first order with delivery id 5 and it is scheduled.  \n",
    "The customer id 4 has a first order with delivery id 7 and it is immediate.  \n",
    "Hence, half the customers have immediate first orders."
   ]
  },
  {
   "cell_type": "markdown",
   "metadata": {},
   "source": [
    "##### Solution"
   ]
  },
  {
   "cell_type": "code",
   "execution_count": null,
   "metadata": {},
   "outputs": [],
   "source": [
    "WITH first_order\n",
    "AS (\n",
    "\tSELECT customer_id, order_date, customer_pref_delivery_date\n",
    "\tFROM (\n",
    "\t\tSELECT customer_id, \n",
    "\t\t\t   order_date, \n",
    "\t\t\t   customer_pref_delivery_date, \n",
    "\t\t\t   ROW_NUMBER() OVER (PARTITION BY customer_id ORDER BY order_date) rn\n",
    "\t\tFROM Delivery\n",
    "\t\t) d\n",
    "\tWHERE rn = 1\n",
    "\t)\n",
    "SELECT ROUND(AVG(IIF(DATEDIFF(day, customer_pref_delivery_date, order_date) = 0, 100.0, 0)), 2) immediate_percentage\n",
    "FROM first_order"
   ]
  }
 ],
 "metadata": {
  "kernelspec": {
   "display_name": "Python 3.10.4 ('leetcode')",
   "language": "python",
   "name": "python3"
  },
  "language_info": {
   "codemirror_mode": {
    "name": "ipython",
    "version": 3
   },
   "file_extension": ".py",
   "mimetype": "text/x-python",
   "name": "python",
   "nbconvert_exporter": "python",
   "pygments_lexer": "ipython3",
   "version": "3.10.4"
  },
  "vscode": {
   "interpreter": {
    "hash": "21d8332eb27bea95342760850bd7426f517b6a483537194bbba87e10eeabf6ff"
   }
  }
 },
 "nbformat": 4,
 "nbformat_minor": 4
}
