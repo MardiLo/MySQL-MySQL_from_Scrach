{
 "cells": [
  {
   "cell_type": "markdown",
   "metadata": {},
   "source": [
    "`# Case`"
   ]
  },
  {
   "cell_type": "markdown",
   "metadata": {},
   "source": [
    "Table: Employees\n",
    "\n",
    "\n",
    "| Column Name | Type    |\n",
    "|-------------|---------|\n",
    "| employee_id | int     |\n",
    "| name        | varchar |\n",
    "| salary      | int     |\n",
    "\n",
    "employee_id is the primary key for this table.  \n",
    "Each row of this table indicates the employee ID, employee name, and salary."
   ]
  },
  {
   "cell_type": "markdown",
   "metadata": {},
   "source": [
    "Write an SQL query to calculate the bonus of each employee. The bonus of an employee is `100%` of their salary if the ID of the employee is an **odd number** and the **employee name does not start with the character** `'M'`. The bonus of an employee is `0` otherwise.\n",
    "\n",
    "Return the result table ordered by `employee_id`.\n",
    "\n",
    "The query result format is in the following example."
   ]
  },
  {
   "cell_type": "markdown",
   "metadata": {},
   "source": [
    "**Example 1:**\n",
    "\n",
    "Input:   \n",
    "Employees table:  \n",
    "\n",
    "| employee_id | name    | salary |\n",
    "|-------------|---------|--------|\n",
    "| 2           | Meir    | 3000   |\n",
    "| 3           | Michael | 3800   |\n",
    "| 7           | Addilyn | 7400   |\n",
    "| 8           | Juan    | 6100   |\n",
    "| 9           | Kannon  | 7700   |\n",
    "\n",
    "Output: \n",
    "\n",
    "| employee_id | bonus |\n",
    "|-------------|-------|\n",
    "| 2           | 0     |\n",
    "| 3           | 0     |\n",
    "| 7           | 7400  |\n",
    "| 8           | 0     |\n",
    "| 9           | 7700  |\n",
    "\n",
    "Explanation:   \n",
    "The employees with IDs 2 and 8 get 0 bonus because they have an even employee_id.  \n",
    "The employee with ID 3 gets 0 bonus because their name starts with 'M'.  \n",
    "The rest of the employees get a 100% bonus.  "
   ]
  },
  {
   "cell_type": "markdown",
   "metadata": {},
   "source": [
    "##### Solution"
   ]
  },
  {
   "cell_type": "code",
   "execution_count": null,
   "metadata": {},
   "outputs": [],
   "source": [
    "# Use case-when\n",
    "SELECT employee_id\n",
    "\t,CASE \n",
    "\t\tWHEN employee_id % 2 = 1\n",
    "\t\t\tAND name NOT LIKE 'M%' THEN salary\n",
    "\t\tELSE 0\n",
    "\t\tEND bonus\n",
    "FROM Employees\n",
    "ORDER BY employee_id\n",
    "\n",
    "# Use iif function\n",
    "SELECT employee_id, IIF(employee_id % 2 = 1 AND name NOT LIKE 'M%', salary, 0) bonus\n",
    "FROM Employees\n",
    "ORDER BY employee_id"
   ]
  }
 ],
 "metadata": {
  "kernelspec": {
   "display_name": "Python 3.10.4 ('leetcode')",
   "language": "python",
   "name": "python3"
  },
  "language_info": {
   "codemirror_mode": {
    "name": "ipython",
    "version": 3
   },
   "file_extension": ".py",
   "mimetype": "text/x-python",
   "name": "python",
   "nbconvert_exporter": "python",
   "pygments_lexer": "ipython3",
   "version": "3.10.4"
  },
  "vscode": {
   "interpreter": {
    "hash": "21d8332eb27bea95342760850bd7426f517b6a483537194bbba87e10eeabf6ff"
   }
  }
 },
 "nbformat": 4,
 "nbformat_minor": 4
}
