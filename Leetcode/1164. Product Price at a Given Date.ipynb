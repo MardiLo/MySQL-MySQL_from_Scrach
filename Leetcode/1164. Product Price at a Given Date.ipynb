{
 "cells": [
  {
   "attachments": {},
   "cell_type": "markdown",
   "metadata": {},
   "source": [
    "`# Join` `# Window Function`"
   ]
  },
  {
   "attachments": {},
   "cell_type": "markdown",
   "metadata": {},
   "source": [
    "Table: Products\n",
    "\n",
    "| Column Name   | Type    |\n",
    "|---------------|---------|\n",
    "| product_id    | int     |\n",
    "| new_price     | int     |\n",
    "| change_date   | date    |\n",
    "\n",
    "(product_id, change_date) is the primary key of this table.  \n",
    "Each row of this table indicates that the price of some product was changed to a new price at some date."
   ]
  },
  {
   "attachments": {},
   "cell_type": "markdown",
   "metadata": {},
   "source": [
    "Write an SQL query to find the prices of all products on `2019-08-16`. Assume the price of all products before any change is `10`.\n",
    "\n",
    "Return the result table in **any order**.\n",
    "\n",
    "The query result format is in the following example."
   ]
  },
  {
   "attachments": {},
   "cell_type": "markdown",
   "metadata": {},
   "source": [
    "**Example 1:**\n",
    "\n",
    "Input: \n",
    "Products table:\n",
    "\n",
    "| product_id | new_price | change_date |\n",
    "|------------|-----------|-------------|\n",
    "| 1          | 20        | 2019-08-14  |\n",
    "| 2          | 50        | 2019-08-14  |\n",
    "| 1          | 30        | 2019-08-15  |\n",
    "| 1          | 35        | 2019-08-16  |\n",
    "| 2          | 65        | 2019-08-17  |\n",
    "| 3          | 20        | 2019-08-18  |\n",
    "\n",
    "Output: \n",
    "\n",
    "| product_id | price |\n",
    "|------------|-------|\n",
    "| 2          | 50    |\n",
    "| 1          | 35    |\n",
    "| 3          | 10    |"
   ]
  },
  {
   "cell_type": "markdown",
   "metadata": {},
   "source": [
    "##### Solution"
   ]
  },
  {
   "cell_type": "code",
   "execution_count": null,
   "metadata": {},
   "outputs": [],
   "source": [
    "WITH res\n",
    "AS (\n",
    "\tSELECT product_id, new_price\n",
    "\tFROM (\n",
    "\t\tSELECT product_id, \n",
    "\t\t       new_price, \n",
    "\t\t\t   ROW_NUMBER() OVER (PARTITION BY product_id ORDER BY change_date DESC) rn\n",
    "\t\tFROM Products\n",
    "\t\tWHERE change_date <= '2019-08-16'\n",
    "\t\t) p\n",
    "\tWHERE rn = 1\n",
    "\t)\n",
    "SELECT DISTINCT p.product_id, ISNULL(res.new_price, 10) price\n",
    "FROM Products p\n",
    "LEFT JOIN res ON p.product_id = res.product_id\n"
   ]
  }
 ],
 "metadata": {
  "kernelspec": {
   "display_name": "Python 3.10.4 ('leetcode')",
   "language": "python",
   "name": "python3"
  },
  "language_info": {
   "codemirror_mode": {
    "name": "ipython",
    "version": 3
   },
   "file_extension": ".py",
   "mimetype": "text/x-python",
   "name": "python",
   "nbconvert_exporter": "python",
   "pygments_lexer": "ipython3",
   "version": "3.10.4"
  },
  "vscode": {
   "interpreter": {
    "hash": "21d8332eb27bea95342760850bd7426f517b6a483537194bbba87e10eeabf6ff"
   }
  }
 },
 "nbformat": 4,
 "nbformat_minor": 4
}
