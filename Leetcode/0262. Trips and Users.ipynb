{
 "cells": [
  {
   "cell_type": "markdown",
   "metadata": {},
   "source": [
    "`# Window Function`"
   ]
  },
  {
   "cell_type": "markdown",
   "metadata": {},
   "source": [
    "Table: Trips\n",
    "\n",
    "| Column Name | Type     |\n",
    "|-------------|----------|\n",
    "| id          | int      |\n",
    "| client_id   | int      |\n",
    "| driver_id   | int      |\n",
    "| city_id     | int      |\n",
    "| status      | enum     |\n",
    "| request_at  | date     |     \n",
    "\n",
    "id is the primary key for this table.  \n",
    "The table holds all taxi trips. Each trip has a unique id, while client_id and driver_id are foreign keys to the users_id at the Users table.  \n",
    "Status is an ENUM type of ('completed', 'cancelled_by_driver', 'cancelled_by_client')."
   ]
  },
  {
   "cell_type": "markdown",
   "metadata": {},
   "source": [
    "Table: Users\n",
    "\n",
    "| Column Name | Type     |\n",
    "|-------------|----------|\n",
    "| users_id    | int      |\n",
    "| banned      | enum     |\n",
    "| role        | enum     |\n",
    "\n",
    "users_id is the primary key for this table.  \n",
    "The table holds all users. Each user has a unique users_id, and role is an ENUM type of ('client', 'driver', 'partner').  \n",
    "banned is an ENUM type of ('Yes', 'No')."
   ]
  },
  {
   "cell_type": "markdown",
   "metadata": {},
   "source": [
    "The **cancellation rate** is computed by dividing the number of canceled (by client or driver) requests with unbanned users by the total number of requests with unbanned users on that day.\n",
    "\n",
    "Write a SQL query to find the **cancellation rate** of requests with unbanned users (**both client and driver must not be banned**) each day between `\"2013-10-01\"` and `\"2013-10-03\"`. Round `Cancellation Rate` to **two decimal** points.\n",
    "\n",
    "Return the result table in any order.\n",
    "\n",
    "The query result format is in the following example."
   ]
  },
  {
   "cell_type": "markdown",
   "metadata": {},
   "source": [
    "**Example 1:**\n",
    "\n",
    "Input:   \n",
    "Trips table:\n",
    "\n",
    "| id | client_id | driver_id | city_id | status              | request_at |\n",
    "|----|-----------|-----------|---------|---------------------|------------|\n",
    "| 1  | 1         | 10        | 1       | completed           | 2013-10-01 |\n",
    "| 2  | 2         | 11        | 1       | cancelled_by_driver | 2013-10-01 |\n",
    "| 3  | 3         | 12        | 6       | completed           | 2013-10-01 |\n",
    "| 4  | 4         | 13        | 6       | cancelled_by_client | 2013-10-01 |\n",
    "| 5  | 1         | 10        | 1       | completed           | 2013-10-02 |\n",
    "| 6  | 2         | 11        | 6       | completed           | 2013-10-02 |\n",
    "| 7  | 3         | 12        | 6       | completed           | 2013-10-02 |\n",
    "| 8  | 2         | 12        | 12      | completed           | 2013-10-03 |\n",
    "| 9  | 3         | 10        | 12      | completed           | 2013-10-03 |\n",
    "| 10 | 4         | 13        | 12      | cancelled_by_driver | 2013-10-03 |\n",
    "\n",
    "Users table:\n",
    "\n",
    "| users_id | banned | role   |\n",
    "|----------|--------|--------|\n",
    "| 1        | No     | client |\n",
    "| 2        | Yes    | client |\n",
    "| 3        | No     | client |\n",
    "| 4        | No     | client |\n",
    "| 10       | No     | driver |\n",
    "| 11       | No     | driver |\n",
    "| 12       | No     | driver |\n",
    "| 13       | No     | driver |\n",
    "\n",
    "Output: \n",
    "\n",
    "| Day        | Cancellation Rate |\n",
    "|------------|-------------------|\n",
    "| 2013-10-01 | 0.33              |\n",
    "| 2013-10-02 | 0.00              |\n",
    "| 2013-10-03 | 0.50              |\n",
    "\n",
    "Explanation:   \n",
    "On 2013-10-01:  \n",
    "  - There were 4 requests in total, 2 of which were canceled.  \n",
    "  - However, the request with Id=2 was made by a banned client (User_Id=2), so it is ignored in the calculation.  \n",
    "  - Hence there are 3 unbanned requests in total, 1 of which was canceled.  \n",
    "  - The Cancellation Rate is (1 / 3) = 0.33  \n",
    "\n",
    "On 2013-10-02:  \n",
    "  - There were 3 requests in total, 0 of which were canceled.  \n",
    "  - The request with Id=6 was made by a banned client, so it is ignored.  \n",
    "  - Hence there are 2 unbanned requests in total, 0 of which were canceled.  \n",
    "  - The Cancellation Rate is (0 / 2) = 0.00  \n",
    "  \n",
    "On 2013-10-03:  \n",
    "  - There were 3 requests in total, 1 of which was canceled.  \n",
    "  - The request with Id=8 was made by a banned client, so it is ignored.  \n",
    "  - Hence there are 2 unbanned request in total, 1 of which were canceled.  \n",
    "  - The Cancellation Rate is (1 / 2) = 0.50  "
   ]
  },
  {
   "cell_type": "code",
   "execution_count": null,
   "metadata": {},
   "outputs": [],
   "source": [
    "SELECT request_at Day, CAST(SUM(IIF(STATUS != 'completed', 1.0, 0.0)) / COUNT(STATUS) AS DECIMAL(3, 2)) 'Cancellation Rate'\n",
    "FROM Trips \n",
    "WHERE Request_at BETWEEN '2013-10-01'\n",
    "\t\tAND '2013-10-03'\n",
    "\tAND client_id IN (\n",
    "\t\tSELECT users_id\n",
    "\t\tFROM Users\n",
    "\t\tWHERE banned = 'No'\n",
    "\t\t\tAND ROLE = 'client'\n",
    "\t\t)\n",
    "\tAND driver_id IN (\n",
    "\t\tSELECT users_id\n",
    "\t\tFROM Users\n",
    "\t\tWHERE banned = 'No'\n",
    "\t\t\tAND ROLE = 'driver'\n",
    "\t\t)\n",
    "GROUP BY request_at\n"
   ]
  }
 ],
 "metadata": {
  "kernelspec": {
   "display_name": "Python 3.10.4 ('leetcode')",
   "language": "python",
   "name": "python3"
  },
  "language_info": {
   "codemirror_mode": {
    "name": "ipython",
    "version": 3
   },
   "file_extension": ".py",
   "mimetype": "text/x-python",
   "name": "python",
   "nbconvert_exporter": "python",
   "pygments_lexer": "ipython3",
   "version": "3.10.4"
  },
  "vscode": {
   "interpreter": {
    "hash": "21d8332eb27bea95342760850bd7426f517b6a483537194bbba87e10eeabf6ff"
   }
  }
 },
 "nbformat": 4,
 "nbformat_minor": 4
}
