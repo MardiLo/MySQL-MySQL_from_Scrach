{
 "cells": [
  {
   "cell_type": "markdown",
   "metadata": {},
   "source": [
    "`# Join` `# Subquery`"
   ]
  },
  {
   "cell_type": "markdown",
   "metadata": {},
   "source": [
    "Table: SalesPerson\n",
    "\n",
    "| Column Name     | Type    |\n",
    "|-----------------|---------|\n",
    "| sales_id        | int     |\n",
    "| name            | varchar |\n",
    "| salary          | int     |\n",
    "| commission_rate | int     |\n",
    "| hire_date       | date    |\n",
    "\n",
    "sales_id is the primary key column for this table.  \n",
    "Each row of this table indicates the name and the ID of a salesperson alongside their salary, commission rate, and hire date."
   ]
  },
  {
   "cell_type": "markdown",
   "metadata": {},
   "source": [
    "Table: Company\n",
    "\n",
    "| Column Name | Type    |\n",
    "|-------------|---------|\n",
    "| com_id      | int     |\n",
    "| name        | varchar |\n",
    "| city        | varchar |\n",
    "\n",
    "com_id is the primary key column for this table.  \n",
    "Each row of this table indicates the name and the ID of a company and the city in which the company is located."
   ]
  },
  {
   "cell_type": "markdown",
   "metadata": {},
   "source": [
    "Table: Orders\n",
    "\n",
    "| Column Name | Type |\n",
    "|-------------|------|\n",
    "| order_id    | int  |\n",
    "| order_date  | date |\n",
    "| com_id      | int  |\n",
    "| sales_id    | int  |\n",
    "| amount      | int  |\n",
    "\n",
    "order_id is the primary key column for this table.  \n",
    "com_id is a foreign key to com_id from the Company table.  \n",
    "sales_id is a foreign key to sales_id from the SalesPerson table.  \n",
    "Each row of this table contains information about one order. This includes the ID of the company, the ID of the salesperson, the date of the order, and the amount paid."
   ]
  },
  {
   "cell_type": "markdown",
   "metadata": {},
   "source": [
    "Write an SQL query to report the names of all the salespersons who did not have any orders related to the company with the name \"RED\".  \n",
    "\n",
    "Return the result table in any order.  \n",
    "\n",
    "The query result format is in the following example."
   ]
  },
  {
   "cell_type": "markdown",
   "metadata": {},
   "source": [
    "**Example 1:**\n",
    "\n",
    "Input:   \n",
    "SalesPerson table:  \n",
    "\n",
    "| sales_id | name | salary | commission_rate | hire_date  |\n",
    "|----------|------|--------|-----------------|------------|\n",
    "| 1        | John | 100000 | 6               | 4/1/2006   |\n",
    "| 2        | Amy  | 12000  | 5               | 5/1/2010   |\n",
    "| 3        | Mark | 65000  | 12              | 12/25/2008 |\n",
    "| 4        | Pam  | 25000  | 25              | 1/1/2005   |\n",
    "| 5        | Alex | 5000   | 10              | 2/3/2007   |\n",
    "\n",
    "Company table:\n",
    "\n",
    "| com_id | name   | city     |\n",
    "|--------|--------|----------|\n",
    "| 1      | RED    | Boston   |\n",
    "| 2      | ORANGE | New York |\n",
    "| 3      | YELLOW | Boston   |\n",
    "| 4      | GREEN  | Austin   |\n",
    "\n",
    "Orders table:\n",
    "\n",
    "| order_id | order_date | com_id | sales_id | amount |\n",
    "|----------|------------|--------|----------|--------|\n",
    "| 1        | 1/1/2014   | 3      | 4        | 10000  |\n",
    "| 2        | 2/1/2014   | 4      | 5        | 5000   |\n",
    "| 3        | 3/1/2014   | 1      | 1        | 50000  |\n",
    "| 4        | 4/1/2014   | 1      | 4        | 25000  |\n",
    "\n",
    "Output: \n",
    "\n",
    "| name |\n",
    "|------|\n",
    "| Amy  |\n",
    "| Mark |\n",
    "| Alex |\n",
    "\n",
    "Explanation:   \n",
    "According to orders 3 and 4 in the Orders table, it is easy to tell that only salesperson John and Pam have sales to company RED, so we report all the other names in the table salesperson."
   ]
  },
  {
   "cell_type": "markdown",
   "metadata": {},
   "source": [
    "##### Solution"
   ]
  },
  {
   "cell_type": "code",
   "execution_count": null,
   "metadata": {},
   "outputs": [],
   "source": [
    "SELECT name\n",
    "FROM SalesPerson\n",
    "WHERE sales_id NOT IN (\n",
    "\t\tSELECT o.sales_id\n",
    "\t\tFROM Orders o\n",
    "\t\tJOIN (\n",
    "\t\t\tSELECT com_id\n",
    "\t\t\tFROM Company\n",
    "\t\t\tWHERE name = 'RED'\n",
    "\t\t\t) c ON o.com_id = c.com_id\n",
    "\t\t)"
   ]
  }
 ],
 "metadata": {
  "kernelspec": {
   "display_name": "Python 3.10.4 ('leetcode')",
   "language": "python",
   "name": "python3"
  },
  "language_info": {
   "codemirror_mode": {
    "name": "ipython",
    "version": 3
   },
   "file_extension": ".py",
   "mimetype": "text/x-python",
   "name": "python",
   "nbconvert_exporter": "python",
   "pygments_lexer": "ipython3",
   "version": "3.10.4"
  },
  "vscode": {
   "interpreter": {
    "hash": "21d8332eb27bea95342760850bd7426f517b6a483537194bbba87e10eeabf6ff"
   }
  }
 },
 "nbformat": 4,
 "nbformat_minor": 4
}
