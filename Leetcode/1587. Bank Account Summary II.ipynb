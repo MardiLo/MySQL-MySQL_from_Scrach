{
 "cells": [
  {
   "cell_type": "markdown",
   "metadata": {},
   "source": [
    "`# Join` `# Subquery` `# Window Function`"
   ]
  },
  {
   "cell_type": "markdown",
   "metadata": {},
   "source": [
    "Table: Users\n",
    "\n",
    "| Column Name  | Type    |\n",
    "|--------------|---------|\n",
    "| account      | int     |\n",
    "| name         | varchar |\n",
    "\n",
    "account is the primary key for this table.  \n",
    "Each row of this table contains the account number of each user in the bank.  \n",
    "There will be no two users having the same name in the table."
   ]
  },
  {
   "cell_type": "markdown",
   "metadata": {},
   "source": [
    "Table: Transactions\n",
    "\n",
    "\n",
    "| Column Name   | Type    |\n",
    "|---------------|---------|\n",
    "| trans_id      | int     |\n",
    "| account       | int     |\n",
    "| amount        | int     |\n",
    "| transacted_on | date    |\n",
    "\n",
    "trans_id is the primary key for this table.  \n",
    "Each row of this table contains all changes made to all accounts.  \n",
    "amount is positive if the user received money and negative if they transferred money.  \n",
    "All accounts start with a balance of 0."
   ]
  },
  {
   "cell_type": "markdown",
   "metadata": {},
   "source": [
    "Table: Rides\n",
    "\n",
    "| Column Name   | Type    |\n",
    "|---------------|---------|\n",
    "| id            | int     |\n",
    "| user_id       | int     |\n",
    "| distance      | int     |\n",
    "\n",
    "id is the primary key for this table.  \n",
    "user_id is the id of the user who traveled the distance \"distance\"."
   ]
  },
  {
   "cell_type": "markdown",
   "metadata": {},
   "source": [
    "Write an SQL query to report the name and balance of users with a balance higher than `10000`. The balance of an account is equal to the sum of the amounts of all transactions involving that account.\n",
    "\n",
    "Return the result table in any order.\n",
    "\n",
    "The query result format is in the following example."
   ]
  },
  {
   "cell_type": "markdown",
   "metadata": {},
   "source": [
    "**Example 1:**\n",
    "\n",
    "Input: \n",
    "Users table:\n",
    "\n",
    "| account    | name         |\n",
    "|------------|--------------|\n",
    "| 900001     | Alice        |\n",
    "| 900002     | Bob          |\n",
    "| 900003     | Charlie      |\n",
    "\n",
    "Transactions table:\n",
    "\n",
    "| trans_id   | account    | amount     | transacted_on |\n",
    "|------------|------------|------------|---------------|\n",
    "| 1          | 900001     | 7000       |  2020-08-01   |\n",
    "| 2          | 900001     | 7000       |  2020-09-01   |\n",
    "| 3          | 900001     | -3000      |  2020-09-02   |\n",
    "| 4          | 900002     | 1000       |  2020-09-12   |\n",
    "| 5          | 900003     | 6000       |  2020-08-07   |\n",
    "| 6          | 900003     | 6000       |  2020-09-07   |\n",
    "| 7          | 900003     | -4000      |  2020-09-11   |\n",
    "\n",
    "Output: \n",
    "\n",
    "| name       | balance    |\n",
    "|------------|------------|\n",
    "| Alice      | 11000      |\n",
    "\n",
    "Explanation:   \n",
    "Alice's balance is (7000 | 7000 - 3000) = 11000.  \n",
    "Bob's balance is 1000.  \n",
    "Charlie's balance is (6000 | 6000 - 4000) = 8000."
   ]
  },
  {
   "cell_type": "markdown",
   "metadata": {},
   "source": [
    "##### Solution"
   ]
  },
  {
   "cell_type": "code",
   "execution_count": null,
   "metadata": {},
   "outputs": [],
   "source": [
    "SELECT u.name, t.balance\n",
    "FROM Users u\n",
    "JOIN (\n",
    "\tSELECT account, SUM(amount) balance\n",
    "\tFROM Transactions\n",
    "\tGROUP BY account\n",
    "\tHAVING SUM(amount) > 10000\n",
    "\t) t ON u.account = t.account"
   ]
  }
 ],
 "metadata": {
  "kernelspec": {
   "display_name": "Python 3.10.4 ('leetcode')",
   "language": "python",
   "name": "python3"
  },
  "language_info": {
   "codemirror_mode": {
    "name": "ipython",
    "version": 3
   },
   "file_extension": ".py",
   "mimetype": "text/x-python",
   "name": "python",
   "nbconvert_exporter": "python",
   "pygments_lexer": "ipython3",
   "version": "3.10.4"
  },
  "vscode": {
   "interpreter": {
    "hash": "21d8332eb27bea95342760850bd7426f517b6a483537194bbba87e10eeabf6ff"
   }
  }
 },
 "nbformat": 4,
 "nbformat_minor": 4
}
