{
 "cells": [
  {
   "cell_type": "markdown",
   "metadata": {},
   "source": [
    "`# Delete` `# Self-Join` `# Window Function`"
   ]
  },
  {
   "cell_type": "markdown",
   "metadata": {},
   "source": [
    "Table: Person\n",
    "\n",
    "| Column Name | Type    |\n",
    "|-------------|---------|\n",
    "| id          | int     |\n",
    "| email       | varchar |\n",
    "\n",
    "id is the primary key column for this table.  \n",
    "Each row of this table contains an email. The emails will not contain uppercase letters."
   ]
  },
  {
   "cell_type": "markdown",
   "metadata": {},
   "source": [
    "Write an SQL query to **delete** all the duplicate emails, keeping only one unique email with the smallest id. Note that you are supposed to write a `DELETE` statement and not a `SELECT` one.\n",
    "\n",
    "After running your script, the answer shown is the `Person` table. The driver will first compile and run your piece of code and then show the `Person` table. The final order of the `Person` table does not matter.\n",
    "\n",
    "The query result format is in the following example."
   ]
  },
  {
   "cell_type": "markdown",
   "metadata": {},
   "source": [
    "**Example 1:**\n",
    "\n",
    "Input:   \n",
    "Person table:\n",
    "\n",
    "| id | email            |\n",
    "|----|------------------|\n",
    "| 1  | john@example.com |\n",
    "| 2  | bob@example.com  |\n",
    "| 3  | john@example.com |\n",
    "\n",
    "Output: \n",
    "\n",
    "| id | email            |\n",
    "|----|------------------|\n",
    "| 1  | john@example.com |\n",
    "| 2  | bob@example.com  |\n",
    "\n",
    "Explanation: john@example.com is repeated two times. We keep the row with the smallest Id = 1.\n"
   ]
  },
  {
   "cell_type": "markdown",
   "metadata": {},
   "source": [
    "##### Solution"
   ]
  },
  {
   "cell_type": "code",
   "execution_count": null,
   "metadata": {},
   "outputs": [],
   "source": [
    "# Use ranking function\n",
    "WITH cte AS (\n",
    "\tSELECT id, email, ROW_NUMBER() OVER (PARTITION BY email ORDER BY id) rn\n",
    "\tFROM Person\n",
    "\t)\n",
    "DELETE\n",
    "FROM cte\n",
    "WHERE rn > 1\n",
    "\n",
    "# Use self-join\n",
    "DELETE p1\n",
    "FROM Person p1\n",
    "JOIN Person p2 ON p1.email = p2.email\n",
    "\tAND p1.id > p2.id"
   ]
  }
 ],
 "metadata": {
  "kernelspec": {
   "display_name": "Python 3.10.4 ('leetcode')",
   "language": "python",
   "name": "python3"
  },
  "language_info": {
   "codemirror_mode": {
    "name": "ipython",
    "version": 3
   },
   "file_extension": ".py",
   "mimetype": "text/x-python",
   "name": "python",
   "nbconvert_exporter": "python",
   "pygments_lexer": "ipython3",
   "version": "3.10.4"
  },
  "vscode": {
   "interpreter": {
    "hash": "21d8332eb27bea95342760850bd7426f517b6a483537194bbba87e10eeabf6ff"
   }
  }
 },
 "nbformat": 4,
 "nbformat_minor": 4
}
