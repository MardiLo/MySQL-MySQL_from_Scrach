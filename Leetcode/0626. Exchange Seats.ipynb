{
 "cells": [
  {
   "cell_type": "markdown",
   "metadata": {},
   "source": [
    "`# Case`"
   ]
  },
  {
   "cell_type": "markdown",
   "metadata": {},
   "source": [
    "Table: Seat\n",
    "\n",
    "| Column Name | Type    |\n",
    "|-------------|---------|\n",
    "| id          | int     |\n",
    "| student     | varchar |\n",
    "\n",
    "id is the primary key column for this table.  \n",
    "Each row of this table indicates the name and the ID of a student.  \n",
    "id is a continuous increment."
   ]
  },
  {
   "cell_type": "markdown",
   "metadata": {},
   "source": [
    "Write an SQL query to swap the seat id of every two consecutive students. If the number of students is odd, the id of the last student is not swapped.\n",
    "\n",
    "Return the result table ordered by `id` in **ascending order**.\n",
    "\n",
    "The query result format is in the following example."
   ]
  },
  {
   "cell_type": "markdown",
   "metadata": {},
   "source": [
    "**Example 1:**\n",
    "\n",
    "Input:   \n",
    "Seat table:  \n",
    "\n",
    "| id | student |\n",
    "|----|---------|\n",
    "| 1  | Abbot   |\n",
    "| 2  | Doris   |\n",
    "| 3  | Emerson |\n",
    "| 4  | Green   |\n",
    "| 5  | Jeames  |\n",
    "\n",
    "Output: \n",
    "\n",
    "| id | student |\n",
    "|----|---------|\n",
    "| 1  | Doris   |\n",
    "| 2  | Abbot   |\n",
    "| 3  | Green   |\n",
    "| 4  | Emerson |\n",
    "| 5  | Jeames  |\n",
    "\n",
    "Explanation:   \n",
    "Note that if the number of students is odd, there is no need to change the last one's seat."
   ]
  },
  {
   "cell_type": "markdown",
   "metadata": {},
   "source": [
    "##### Solution"
   ]
  },
  {
   "cell_type": "code",
   "execution_count": null,
   "metadata": {},
   "outputs": [],
   "source": [
    "SELECT CASE \n",
    "\t\tWHEN id % 2 = 1 \n",
    "\t\t\tAND id = (SELECT MAX(id) FROM Seat) THEN id\n",
    "\t\tWHEN id % 2 = 1 THEN id + 1\n",
    "\t\tELSE id - 1\n",
    "\t\tEND id\n",
    "\t, student\n",
    "FROM Seat\n",
    "ORDER BY id"
   ]
  }
 ],
 "metadata": {
  "kernelspec": {
   "display_name": "Python 3.10.4 ('leetcode')",
   "language": "python",
   "name": "python3"
  },
  "language_info": {
   "codemirror_mode": {
    "name": "ipython",
    "version": 3
   },
   "file_extension": ".py",
   "mimetype": "text/x-python",
   "name": "python",
   "nbconvert_exporter": "python",
   "pygments_lexer": "ipython3",
   "version": "3.10.4"
  },
  "vscode": {
   "interpreter": {
    "hash": "21d8332eb27bea95342760850bd7426f517b6a483537194bbba87e10eeabf6ff"
   }
  }
 },
 "nbformat": 4,
 "nbformat_minor": 4
}
