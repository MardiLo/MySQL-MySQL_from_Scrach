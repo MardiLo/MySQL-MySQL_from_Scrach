{
 "cells": [
  {
   "cell_type": "markdown",
   "metadata": {},
   "source": [
    "`# Window Function`"
   ]
  },
  {
   "cell_type": "markdown",
   "metadata": {},
   "source": [
    "Table: Stadium\n",
    "\n",
    "| Column Name   | Type    |\n",
    "|---------------|---------|\n",
    "| id            | int     |\n",
    "| visit_date    | date    |\n",
    "| people        | int     |\n",
    "\n",
    "visit_date is the primary key for this table.  \n",
    "Each row of this table contains the visit date and visit id to the stadium with the number of people during the visit.  \n",
    "No two rows will have the same visit_date, and as the id increases, the dates increase as well."
   ]
  },
  {
   "cell_type": "markdown",
   "metadata": {},
   "source": [
    "Write an SQL query to display the records with three or more rows with **consecutive** `id`'s, and the number of people is greater than or equal to `100` for each.\n",
    "\n",
    "Return the result table ordered by `visit_date` in **ascending order**.\n",
    "\n",
    "The query result format is in the following example."
   ]
  },
  {
   "cell_type": "markdown",
   "metadata": {},
   "source": [
    "**Example 1:**\n",
    "\n",
    "Input:   \n",
    "Stadium table:  \n",
    "\n",
    "| id   | visit_date | people    |\n",
    "|------|------------|-----------|\n",
    "| 1    | 2017-01-01 | 10        |\n",
    "| 2    | 2017-01-02 | 109       |\n",
    "| 3    | 2017-01-03 | 150       |\n",
    "| 4    | 2017-01-04 | 99        |\n",
    "| 5    | 2017-01-05 | 145       |\n",
    "| 6    | 2017-01-06 | 1455      |\n",
    "| 7    | 2017-01-07 | 199       |\n",
    "| 8    | 2017-01-09 | 188       |\n",
    "\n",
    "Output: \n",
    "\n",
    "| id   | visit_date | people    |\n",
    "|------|------------|-----------|\n",
    "| 5    | 2017-01-05 | 145       |\n",
    "| 6    | 2017-01-06 | 1455      |\n",
    "| 7    | 2017-01-07 | 199       |\n",
    "| 8    | 2017-01-09 | 188       |\n",
    "\n",
    "Explanation:   \n",
    "The four rows with ids 5, 6, 7, and 8 have consecutive ids and each of them has >= 100 people attended. Note that row 8 was included even though the visit_date was not the next day after row 7.  \n",
    "The rows with ids 2 and 3 are not included because we need at least three consecutive ids."
   ]
  },
  {
   "cell_type": "markdown",
   "metadata": {},
   "source": [
    "##### Solution"
   ]
  },
  {
   "cell_type": "code",
   "execution_count": null,
   "metadata": {},
   "outputs": [],
   "source": [
    "WITH cte AS (\n",
    "\tSELECT *, (id - ROW_NUMBER() OVER (ORDER BY id)) grouper\n",
    "\tFROM Stadium\n",
    "\tWHERE people >= 100\n",
    "\t)\n",
    "SELECT id, visit_date, people\n",
    "FROM cte\n",
    "WHERE grouper IN (\n",
    "\t\tSELECT grouper\n",
    "\t\tFROM cte\n",
    "\t\tGROUP BY grouper\n",
    "\t\tHAVING COUNT(grouper) >= 3\n",
    "\t\t)"
   ]
  }
 ],
 "metadata": {
  "kernelspec": {
   "display_name": "Python 3.10.4 ('leetcode')",
   "language": "python",
   "name": "python3"
  },
  "language_info": {
   "codemirror_mode": {
    "name": "ipython",
    "version": 3
   },
   "file_extension": ".py",
   "mimetype": "text/x-python",
   "name": "python",
   "nbconvert_exporter": "python",
   "pygments_lexer": "ipython3",
   "version": "3.10.4"
  },
  "vscode": {
   "interpreter": {
    "hash": "21d8332eb27bea95342760850bd7426f517b6a483537194bbba87e10eeabf6ff"
   }
  }
 },
 "nbformat": 4,
 "nbformat_minor": 4
}
