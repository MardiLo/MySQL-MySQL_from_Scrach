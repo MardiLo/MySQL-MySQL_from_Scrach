{
 "cells": [
  {
   "cell_type": "markdown",
   "metadata": {},
   "source": [
    "`# Pivot` `# Window Function`"
   ]
  },
  {
   "cell_type": "markdown",
   "metadata": {},
   "source": [
    "Table: Department\n",
    "\n",
    "| Column Name | Type    |\n",
    "|-------------|---------|\n",
    "| id          | int     |\n",
    "| revenue     | int     |\n",
    "| month       | varchar |\n",
    "\n",
    "(id, month) is the primary key of this table.  \n",
    "The table has information about the revenue of each department per month.  \n",
    "The month has values in [\"Jan\",\"Feb\",\"Mar\",\"Apr\",\"May\",\"Jun\",\"Jul\",\"Aug\",\"Sep\",\"Oct\",\"Nov\",\"Dec\"]."
   ]
  },
  {
   "cell_type": "markdown",
   "metadata": {},
   "source": [
    "Write an SQL query to reformat the table such that there is a department id column and a revenue column **for each month**.\n",
    "\n",
    "Return the result table in any order.\n",
    "\n",
    "The query result format is in the following example."
   ]
  },
  {
   "cell_type": "markdown",
   "metadata": {},
   "source": [
    "**Example 1:**\n",
    "\n",
    "Input:   \n",
    "Department table:  \n",
    "\n",
    "| id   | revenue | month |\n",
    "|------|---------|-------|\n",
    "| 1    | 8000    | Jan   |\n",
    "| 2    | 9000    | Jan   |\n",
    "| 3    | 10000   | Feb   |\n",
    "| 1    | 7000    | Feb   |\n",
    "| 1    | 6000    | Mar   |\n",
    "\n",
    "Output: \n",
    "\n",
    "| id   | Jan_Revenue | Feb_Revenue | Mar_Revenue | ... | Dec_Revenue |\n",
    "|------|-------------|-------------|-------------|-----|-------------|\n",
    "| 1    | 8000        | 7000        | 6000        | ... | null        |\n",
    "| 2    | 9000        | null        | null        | ... | null        |\n",
    "| 3    | null        | 10000       | null        | ... | null        |\n",
    "\n",
    "Explanation: The revenue from Apr to Dec is null.  \n",
    "Note that the result table has 13 columns (1 for the department id + 12 for the months)."
   ]
  },
  {
   "cell_type": "code",
   "execution_count": null,
   "metadata": {},
   "outputs": [],
   "source": [
    "# Use pivot function\n",
    "SELECT id\n",
    "\t,Jan Jan_Revenue\n",
    "\t,Feb Feb_Revenue\n",
    "\t,Mar Mar_Revenue\n",
    "\t,Apr Apr_Revenue\n",
    "\t,May May_Revenue\n",
    "\t,Jun Jun_Revenue\n",
    "\t,Jul Jul_Revenue\n",
    "\t,Aug Aug_Revenue\n",
    "\t,Sep Sep_Revenue\n",
    "\t,Oct Oct_Revenue\n",
    "\t,Nov Nov_Revenue\n",
    "\t,Dec Dec_Revenue\n",
    "FROM Department\n",
    "PIVOT(\n",
    "\tSUM(revenue) \n",
    "\tFOR month IN (Jan, Feb, Mar, Apr, May, Jun, Jul, Aug, Sep, Oct, Nov, Dec)\n",
    "\t) pvt\n",
    "\n",
    "# Use aggreagation function\n",
    "SELECT id\n",
    "\t,sum(case month when 'Jan' then revenue else null end) Jan_Revenue\n",
    "\t,sum(case month when 'Feb' then revenue else null end) Feb_Revenue\n",
    "\t,sum(case month when 'Mar' then revenue else null end) Mar_Revenue\n",
    "\t,sum(case month when 'Apr' then revenue else null end) Apr_Revenue\n",
    "\t,sum(case month when 'May' then revenue else null end) May_Revenue\n",
    "\t,sum(case month when 'Jun' then revenue else null end) Jun_Revenue\n",
    "\t,sum(case month when 'Jul' then revenue else null end) Jul_Revenue\n",
    "\t,sum(case month when 'Aug' then revenue else null end) Aug_Revenue\n",
    "\t,sum(case month when 'Sep' then revenue else null end) Sep_Revenue\n",
    "\t,sum(case month when 'Oct' then revenue else null end) Oct_Revenue\n",
    "\t,sum(case month when 'Nov' then revenue else null end) Nov_Revenue\n",
    "\t,sum(case month when 'Dec' then revenue else null end) Dec_Revenue\n",
    "FROM Department\n",
    "GROUP By id "
   ]
  }
 ],
 "metadata": {
  "kernelspec": {
   "display_name": "Python 3.10.4 ('leetcode')",
   "language": "python",
   "name": "python3"
  },
  "language_info": {
   "codemirror_mode": {
    "name": "ipython",
    "version": 3
   },
   "file_extension": ".py",
   "mimetype": "text/x-python",
   "name": "python",
   "nbconvert_exporter": "python",
   "pygments_lexer": "ipython3",
   "version": "3.10.4"
  },
  "vscode": {
   "interpreter": {
    "hash": "21d8332eb27bea95342760850bd7426f517b6a483537194bbba87e10eeabf6ff"
   }
  }
 },
 "nbformat": 4,
 "nbformat_minor": 4
}
