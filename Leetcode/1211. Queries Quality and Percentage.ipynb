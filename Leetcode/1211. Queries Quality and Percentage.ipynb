{
 "cells": [
  {
   "attachments": {},
   "cell_type": "markdown",
   "metadata": {},
   "source": [
    "`# Join` `# Window Function`"
   ]
  },
  {
   "attachments": {},
   "cell_type": "markdown",
   "metadata": {},
   "source": [
    "Table: Queries\n",
    "\n",
    "| Column Name | Type    |\n",
    "|-------------|---------|\n",
    "| query_name  | varchar |\n",
    "| result      | varchar |\n",
    "| position    | int     |\n",
    "| rating      | int     |\n",
    "\n",
    "There is no primary key for this table, it may have duplicate rows.  \n",
    "This table contains information collected from some queries on a database.  \n",
    "The position column has a value from 1 to 500.  \n",
    "The rating column has a value from 1 to 5. Query with rating less than 3 is a poor query."
   ]
  },
  {
   "attachments": {},
   "cell_type": "markdown",
   "metadata": {},
   "source": [
    "We define query `quality` as:\n",
    "\n",
    "> The average of the ratio between query rating and its position.\n",
    "\n",
    "We also define `poor query percentage` as:\n",
    "\n",
    "> The percentage of all queries with rating less than 3.\n",
    "\n",
    "Write an SQL query to find each `query_name`, the `quality` and `poor_query_percentage`.\n",
    "\n",
    "Both `quality` and `poor_query_percentage` should be **rounded to 2 decimal places**.\n",
    "\n",
    "Return the result table in **any order**.\n",
    "\n",
    "The query result format is in the following example."
   ]
  },
  {
   "attachments": {},
   "cell_type": "markdown",
   "metadata": {},
   "source": [
    "**Example 1:**\n",
    "\n",
    "Input:   \n",
    "Queries table:\n",
    "\n",
    "| query_name | result            | position | rating |\n",
    "|------------|-------------------|----------|--------|\n",
    "| Dog        | Golden Retriever  | 1        | 5      |\n",
    "| Dog        | German Shepherd   | 2        | 5      |\n",
    "| Dog        | Mule              | 200      | 1      |\n",
    "| Cat        | Shirazi           | 5        | 2      |\n",
    "| Cat        | Siamese           | 3        | 3      |\n",
    "| Cat        | Sphynx            | 7        | 4      |\n",
    "\n",
    "Output: \n",
    "\n",
    "| query_name | quality | poor_query_percentage |\n",
    "|------------|---------|-----------------------|\n",
    "| Dog        | 2.50    | 33.33                 |\n",
    "| Cat        | 0.66    | 33.33                 |\n",
    "\n",
    "Explanation:   \n",
    "Dog queries quality is ((5 / 1) + (5 / 2) + (1 / 200)) / 3 = 2.50  \n",
    "Dog queries poor_ query_percentage is (1 / 3) * 100 = 33.33  \n",
    "\n",
    "Cat queries quality equals ((2 / 5) + (3 / 3) + (4 / 7)) / 3 = 0.66  \n",
    "Cat queries poor_ query_percentage is (1 / 3) * 100 = 33.33"
   ]
  },
  {
   "cell_type": "markdown",
   "metadata": {},
   "source": [
    "##### Solution"
   ]
  },
  {
   "cell_type": "code",
   "execution_count": null,
   "metadata": {},
   "outputs": [],
   "source": [
    "WITH q\n",
    "AS (\n",
    "\tSELECT query_name, ROUND(SUM(rating * 1.0 / position * 1.0) / COUNT(rating) * 1.0, 2) quality\n",
    "\tFROM Queries\n",
    "\tGROUP BY query_name\n",
    "\t), p\n",
    "AS (\n",
    "\tSELECT query_name, ROUND(100 * SUM(IIF(rating < 3, 1.0, 0)) / COUNT(rating) * 1.0, 2) poor_query_percentage\n",
    "\tFROM Queries\n",
    "\tGROUP BY query_name\n",
    "\t)\n",
    "SELECT q.query_name, q.quality, p.poor_query_percentage\n",
    "FROM q, p\n",
    "WHERE q.query_name = p.query_name\n"
   ]
  }
 ],
 "metadata": {
  "kernelspec": {
   "display_name": "Python 3.10.4 ('leetcode')",
   "language": "python",
   "name": "python3"
  },
  "language_info": {
   "codemirror_mode": {
    "name": "ipython",
    "version": 3
   },
   "file_extension": ".py",
   "mimetype": "text/x-python",
   "name": "python",
   "nbconvert_exporter": "python",
   "pygments_lexer": "ipython3",
   "version": "3.10.4"
  },
  "vscode": {
   "interpreter": {
    "hash": "21d8332eb27bea95342760850bd7426f517b6a483537194bbba87e10eeabf6ff"
   }
  }
 },
 "nbformat": 4,
 "nbformat_minor": 4
}
