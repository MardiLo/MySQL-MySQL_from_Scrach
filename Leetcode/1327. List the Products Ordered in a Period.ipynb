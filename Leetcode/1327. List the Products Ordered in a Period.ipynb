{
 "cells": [
  {
   "attachments": {},
   "cell_type": "markdown",
   "metadata": {},
   "source": [
    "`# Join` `# Window Function`"
   ]
  },
  {
   "attachments": {},
   "cell_type": "markdown",
   "metadata": {},
   "source": [
    "Table: Products\n",
    "\n",
    "| Column Name      | Type    |\n",
    "|------------------|---------|\n",
    "| product_id       | int     |\n",
    "| product_name     | varchar |\n",
    "| product_category | varchar |\n",
    "\n",
    "product_id is the primary key for this table.  \n",
    "This table contains data about the company's products."
   ]
  },
  {
   "attachments": {},
   "cell_type": "markdown",
   "metadata": {},
   "source": [
    "Table: Orders\n",
    "\n",
    "| Column Name   | Type    |\n",
    "|---------------|---------|\n",
    "| product_id    | int     |\n",
    "| order_date    | date    |\n",
    "| unit          | int     |\n",
    "\n",
    "There is no primary key for this table. It may have duplicate rows.  \n",
    "product_id is a foreign key to the Products table.  \n",
    "unit is the number of products ordered in order_date."
   ]
  },
  {
   "attachments": {},
   "cell_type": "markdown",
   "metadata": {},
   "source": [
    "Write an SQL query to get the names of products that have at least `100` units ordered in **February 2020** and their amount.\n",
    "\n",
    "Return result table in **any order**.\n",
    "\n",
    "The query result format is in the following example."
   ]
  },
  {
   "attachments": {},
   "cell_type": "markdown",
   "metadata": {},
   "source": [
    "**Example 1:**\n",
    "\n",
    "Input: \n",
    "Products table:\n",
    "\n",
    "| product_id  | product_name          | product_category |\n",
    "|-------------|-----------------------|------------------|\n",
    "| 1           | Leetcode Solutions    | Book             |\n",
    "| 2           | Jewels of Stringology | Book             |\n",
    "| 3           | HP                    | Laptop           |\n",
    "| 4           | Lenovo                | Laptop           |\n",
    "| 5           | Leetcode Kit          | T-shirt          |\n",
    "\n",
    "Orders table:\n",
    "\n",
    "| product_id   | order_date   | unit     |\n",
    "|--------------|--------------|----------|\n",
    "| 1            | 2020-02-05   | 60       |\n",
    "| 1            | 2020-02-10   | 70       |\n",
    "| 2            | 2020-01-18   | 30       |\n",
    "| 2            | 2020-02-11   | 80       |\n",
    "| 3            | 2020-02-17   | 2        |\n",
    "| 3            | 2020-02-24   | 3        |\n",
    "| 4            | 2020-03-01   | 20       |\n",
    "| 4            | 2020-03-04   | 30       |\n",
    "| 4            | 2020-03-04   | 60       |\n",
    "| 5            | 2020-02-25   | 50       |\n",
    "| 5            | 2020-02-27   | 50       |\n",
    "| 5            | 2020-03-01   | 50       |\n",
    "\n",
    "Output: \n",
    "\n",
    "| product_name       | unit    |\n",
    "|--------------------|---------|\n",
    "| Leetcode Solutions | 130     |\n",
    "| Leetcode Kit       | 100     |\n",
    "\n",
    "Explanation:   \n",
    "Products with product_id = 1 is ordered in February a total of (60 + 70) = 130.  \n",
    "Products with product_id = 2 is ordered in February a total of 80.  \n",
    "Products with product_id = 3 is ordered in February a total of (2 + 3) = 5.  \n",
    "Products with product_id = 4 was not ordered in February 2020.  \n",
    "Products with product_id = 5 is ordered in February a total of (50 + 50) = 100."
   ]
  },
  {
   "cell_type": "markdown",
   "metadata": {},
   "source": [
    "##### Solution"
   ]
  },
  {
   "cell_type": "code",
   "execution_count": null,
   "metadata": {},
   "outputs": [],
   "source": [
    "SELECT product_name, SUM(unit) unit\n",
    "FROM Products p\n",
    "JOIN Orders o ON p.product_id = o.product_id\n",
    "WHERE order_date BETWEEN '2020-02-01'\n",
    "\t\tAND '2020-02-29'\n",
    "GROUP BY product_name\n",
    "HAVING SUM(unit) >= 100"
   ]
  }
 ],
 "metadata": {
  "kernelspec": {
   "display_name": "Python 3.10.4 ('leetcode')",
   "language": "python",
   "name": "python3"
  },
  "language_info": {
   "codemirror_mode": {
    "name": "ipython",
    "version": 3
   },
   "file_extension": ".py",
   "mimetype": "text/x-python",
   "name": "python",
   "nbconvert_exporter": "python",
   "pygments_lexer": "ipython3",
   "version": "3.10.4"
  },
  "vscode": {
   "interpreter": {
    "hash": "21d8332eb27bea95342760850bd7426f517b6a483537194bbba87e10eeabf6ff"
   }
  }
 },
 "nbformat": 4,
 "nbformat_minor": 4
}
