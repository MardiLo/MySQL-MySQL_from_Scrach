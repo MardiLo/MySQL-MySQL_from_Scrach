{
 "cells": [
  {
   "attachments": {},
   "cell_type": "markdown",
   "metadata": {},
   "source": [
    "`# Distinct` `# Window Function`"
   ]
  },
  {
   "attachments": {},
   "cell_type": "markdown",
   "metadata": {},
   "source": [
    "Table: Teacher\n",
    "\n",
    "| Column Name | Type |\n",
    "|-------------|------|\n",
    "| teacher_id  | int  |\n",
    "| subject_id  | int  |\n",
    "| dept_id     | int  |\n",
    "\n",
    "(subject_id, dept_id) is the primary key for this table.  \n",
    "Each row in this table indicates that the teacher with teacher_id teaches the subject subject_id in the department dept_id."
   ]
  },
  {
   "attachments": {},
   "cell_type": "markdown",
   "metadata": {},
   "source": [
    "Write an SQL query to report the number of unique subjects each teacher teaches in the university.\n",
    "\n",
    "Return the result table in **any order**.\n",
    "\n",
    "The query result format is shown in the following example."
   ]
  },
  {
   "attachments": {},
   "cell_type": "markdown",
   "metadata": {},
   "source": [
    "**Example 1:**\n",
    "\n",
    "Input:   \n",
    "Teacher table:\n",
    "\n",
    "| teacher_id | subject_id | dept_id |\n",
    "|------------|------------|---------|\n",
    "| 1          | 2          | 3       |\n",
    "| 1          | 2          | 4       |\n",
    "| 1          | 3          | 3       |\n",
    "| 2          | 1          | 1       |\n",
    "| 2          | 2          | 1       |\n",
    "| 2          | 3          | 1       |\n",
    "| 2          | 4          | 1       |\n",
    "\n",
    "Output:  \n",
    "\n",
    "| teacher_id | cnt |\n",
    "|------------|-----|\n",
    "| 1          | 2   |\n",
    "| 2          | 4   |\n",
    "\n",
    "Explanation:   \n",
    "Teacher 1:  \n",
    "  - They teach subject 2 in departments 3 and 4.  \n",
    "  - They teach subject 3 in department 3.  \n",
    "  \n",
    "Teacher 2:  \n",
    "  - They teach subject 1 in department 1.  \n",
    "  - They teach subject 2 in department 1.  \n",
    "  - They teach subject 3 in department 1.  \n",
    "  - They teach subject 4 in department 1."
   ]
  },
  {
   "cell_type": "markdown",
   "metadata": {},
   "source": [
    "##### Solution"
   ]
  },
  {
   "cell_type": "code",
   "execution_count": null,
   "metadata": {},
   "outputs": [],
   "source": [
    "SELECT teacher_id, COUNT(DISTINCT subject_id) cnt\n",
    "FROM Teacher\n",
    "GROUP BY teacher_id"
   ]
  }
 ],
 "metadata": {
  "kernelspec": {
   "display_name": "Python 3.10.4 ('leetcode')",
   "language": "python",
   "name": "python3"
  },
  "language_info": {
   "codemirror_mode": {
    "name": "ipython",
    "version": 3
   },
   "file_extension": ".py",
   "mimetype": "text/x-python",
   "name": "python",
   "nbconvert_exporter": "python",
   "pygments_lexer": "ipython3",
   "version": "3.10.4"
  },
  "vscode": {
   "interpreter": {
    "hash": "21d8332eb27bea95342760850bd7426f517b6a483537194bbba87e10eeabf6ff"
   }
  }
 },
 "nbformat": 4,
 "nbformat_minor": 4
}
