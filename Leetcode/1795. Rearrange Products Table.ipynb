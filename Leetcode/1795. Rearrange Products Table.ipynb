{
 "cells": [
  {
   "cell_type": "markdown",
   "metadata": {},
   "source": [
    "`# Pivot` `# Union All`"
   ]
  },
  {
   "cell_type": "markdown",
   "metadata": {},
   "source": [
    "Table: Products\n",
    "\n",
    "| Column Name | Type    |\n",
    "|-------------|---------|\n",
    "| product_id  | int     |\n",
    "| store1      | int     |\n",
    "| store2      | int     |\n",
    "| store3      | int     |\n",
    "\n",
    "product_id is the primary key for this table.  \n",
    "Each row in this table indicates the product's price in 3 different stores: store1, store2, and store3.  \n",
    "If the product is not available in a store, the price will be null in that store's column."
   ]
  },
  {
   "cell_type": "markdown",
   "metadata": {},
   "source": [
    "Write an SQL query to rearrange the Products table so that each row has (`product_id`, `store`, `price`). If a product is not available in a `store`, do not include a row with that `product_id` and `store` combination in the result table.\n",
    "\n",
    "Return the result table in any order.\n",
    "\n",
    "The query result format is in the following example."
   ]
  },
  {
   "cell_type": "markdown",
   "metadata": {},
   "source": [
    "**Example 1:**\n",
    "\n",
    "Input:   \n",
    "Products table:  \n",
    "\n",
    "| product_id | store1 | store2 | store3 |\n",
    "|------------|--------|--------|--------|\n",
    "| 0          | 95     | 100    | 105    |\n",
    "| 1          | 70     | null   | 80     |\n",
    "\n",
    "Output: \n",
    "\n",
    "| product_id | store  | price |\n",
    "|------------|--------|-------|\n",
    "| 0          | store1 | 95    |\n",
    "| 0          | store2 | 100   |\n",
    "| 0          | store3 | 105   |\n",
    "| 1          | store1 | 70    |\n",
    "| 1          | store3 | 80    |\n",
    "\n",
    "Explanation:   \n",
    "Product 0 is available in all three stores with prices 95, 100, and 105 respectively.  \n",
    "Product 1 is available in store1 with price 70 and store3 with price 80. The product is not available in store2."
   ]
  },
  {
   "cell_type": "code",
   "execution_count": null,
   "metadata": {},
   "outputs": [],
   "source": [
    "# Use pivot function\n",
    "SELECT product_id, store, price\n",
    "FROM Products\n",
    "UNPIVOT(\n",
    "\tprice \n",
    "\tFOR store IN (store1, store2, store3)\n",
    "\t) unpvt\n",
    "\n",
    "# Use Union All function\n",
    "SELECT product_id, 'store1' store, store1 price\n",
    "FROM Products\n",
    "WHERE store1 IS NOT NULL\n",
    "\n",
    "UNION ALL\n",
    "\n",
    "SELECT product_id, 'store2' store, store2 price\n",
    "FROM Products\n",
    "WHERE store2 IS NOT NULL\n",
    "\n",
    "UNION ALL\n",
    "\n",
    "SELECT product_id, 'store3' store, store3 price\n",
    "FROM Products\n",
    "WHERE store3 IS NOT NULL\n"
   ]
  }
 ],
 "metadata": {
  "kernelspec": {
   "display_name": "Python 3.10.4 ('leetcode')",
   "language": "python",
   "name": "python3"
  },
  "language_info": {
   "codemirror_mode": {
    "name": "ipython",
    "version": 3
   },
   "file_extension": ".py",
   "mimetype": "text/x-python",
   "name": "python",
   "nbconvert_exporter": "python",
   "pygments_lexer": "ipython3",
   "version": "3.10.4"
  },
  "vscode": {
   "interpreter": {
    "hash": "21d8332eb27bea95342760850bd7426f517b6a483537194bbba87e10eeabf6ff"
   }
  }
 },
 "nbformat": 4,
 "nbformat_minor": 4
}
