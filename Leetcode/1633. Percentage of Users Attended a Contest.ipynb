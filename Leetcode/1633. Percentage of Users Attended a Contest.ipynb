{
 "cells": [
  {
   "attachments": {},
   "cell_type": "markdown",
   "metadata": {},
   "source": [
    "`# Join` `# Window Function`"
   ]
  },
  {
   "attachments": {},
   "cell_type": "markdown",
   "metadata": {},
   "source": [
    "Table: Users\n",
    "\n",
    "| Column Name | Type    |\n",
    "|-------------|---------|\n",
    "| user_id     | int     |\n",
    "| user_name   | varchar |\n",
    "\n",
    "user_id is the primary key for this table.  \n",
    "Each row of this table contains the name and the id of a user."
   ]
  },
  {
   "attachments": {},
   "cell_type": "markdown",
   "metadata": {},
   "source": [
    "Table: Register\n",
    "\n",
    "| Column Name | Type    |\n",
    "|-------------|---------|\n",
    "| contest_id  | int     |\n",
    "| user_id     | int     |\n",
    "\n",
    "(contest_id, user_id) is the primary key for this table.  \n",
    "Each row of this table contains the id of a user and the contest they registered into."
   ]
  },
  {
   "attachments": {},
   "cell_type": "markdown",
   "metadata": {},
   "source": [
    "Write an SQL query to find the percentage of the users registered in each contest **rounded to two decimals**.\n",
    "\n",
    "Return the result table ordered by `percentage` in **descending order**. In case of a tie, order it by `contest_id` in **ascending order**.\n",
    "\n",
    "The query result format is in the following example."
   ]
  },
  {
   "attachments": {},
   "cell_type": "markdown",
   "metadata": {},
   "source": [
    "**Example 1:**\n",
    "\n",
    "Input:   \n",
    "Users table:\n",
    "\n",
    "| user_id | user_name |\n",
    "|---------|-----------|\n",
    "| 6       | Alice     |\n",
    "| 2       | Bob       |\n",
    "| 7       | Alex      |\n",
    "\n",
    "Register table:\n",
    "\n",
    "| contest_id | user_id |\n",
    "|------------|---------|\n",
    "| 215        | 6       |\n",
    "| 209        | 2       |\n",
    "| 208        | 2       |\n",
    "| 210        | 6       |\n",
    "| 208        | 6       |\n",
    "| 209        | 7       |\n",
    "| 209        | 6       |\n",
    "| 215        | 7       |\n",
    "| 208        | 7       |\n",
    "| 210        | 2       |\n",
    "| 207        | 2       |\n",
    "| 210        | 7       |\n",
    "\n",
    "Output: \n",
    "\n",
    "| contest_id | percentage |\n",
    "|------------|------------|\n",
    "| 208        | 100.0      |\n",
    "| 209        | 100.0      |\n",
    "| 210        | 100.0      |\n",
    "| 215        | 66.67      |\n",
    "| 207        | 33.33      |\n",
    "\n",
    "Explanation:   \n",
    "All the users registered in contests 208, 209, and 210. The percentage is 100% and we sort them in the answer table by contest_id in ascending order.  \n",
    "Alice and Alex registered in contest 215 and the percentage is ((2/3) * 100) = 66.67%  \n",
    "Bob registered in contest 207 and the percentage is ((1/3) * 100) = 33.33%"
   ]
  },
  {
   "cell_type": "markdown",
   "metadata": {},
   "source": [
    "##### Solution"
   ]
  },
  {
   "cell_type": "code",
   "execution_count": null,
   "metadata": {},
   "outputs": [],
   "source": [
    "WITH u\n",
    "AS (\n",
    "\tSELECT COUNT(user_id) * 1.0 total_user_cnt\n",
    "\tFROM Users\n",
    "\t), r\n",
    "AS (\n",
    "\tSELECT contest_id, COUNT(user_id) * 1.0 join_user_cnt\n",
    "\tFROM Register\n",
    "\tGROUP BY contest_id\n",
    "\t)\n",
    "SELECT contest_id, ROUND(100 * join_user_cnt / total_user_cnt, 2) percentage\n",
    "FROM r, u\n",
    "ORDER BY percentage DESC, contest_id"
   ]
  }
 ],
 "metadata": {
  "kernelspec": {
   "display_name": "Python 3.10.4 ('leetcode')",
   "language": "python",
   "name": "python3"
  },
  "language_info": {
   "codemirror_mode": {
    "name": "ipython",
    "version": 3
   },
   "file_extension": ".py",
   "mimetype": "text/x-python",
   "name": "python",
   "nbconvert_exporter": "python",
   "pygments_lexer": "ipython3",
   "version": "3.10.4"
  },
  "vscode": {
   "interpreter": {
    "hash": "21d8332eb27bea95342760850bd7426f517b6a483537194bbba87e10eeabf6ff"
   }
  }
 },
 "nbformat": 4,
 "nbformat_minor": 4
}
