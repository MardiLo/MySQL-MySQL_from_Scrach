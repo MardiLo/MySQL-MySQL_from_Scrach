{
 "cells": [
  {
   "cell_type": "markdown",
   "metadata": {},
   "source": [
    "`# Where`"
   ]
  },
  {
   "cell_type": "markdown",
   "metadata": {},
   "source": [
    "Table: Patients\n",
    "\n",
    "| Column Name  | Type    |\n",
    "|--------------|---------|\n",
    "| patient_id   | int     |\n",
    "| patient_name | varchar |\n",
    "| conditions   | varchar |\n",
    "\n",
    "patient_id is the primary key for this table.  \n",
    "'conditions' contains 0 or more code separated by spaces.   \n",
    "This table contains information of the patients in the hospital.  "
   ]
  },
  {
   "cell_type": "markdown",
   "metadata": {},
   "source": [
    "Write an SQL query to report the patient_id, patient_name all conditions of patients who have Type I Diabetes. Type I Diabetes always starts with `DIAB1` prefix\n",
    "\n",
    "Return the result table in any order.\n",
    "\n",
    "The query result format is in the following example."
   ]
  },
  {
   "cell_type": "markdown",
   "metadata": {},
   "source": [
    "**Example 1:**\n",
    "\n",
    "Input:   \n",
    "Patients table:\n",
    "\n",
    "| patient_id | patient_name | conditions   |\n",
    "|------------|--------------|--------------|\n",
    "| 1          | Daniel       | YFEV COUGH   |\n",
    "| 2          | Alice        |              |\n",
    "| 3          | Bob          | DIAB100 MYOP |\n",
    "| 4          | George       | ACNE DIAB100 |\n",
    "| 5          | Alain        | DIAB201      |\n",
    "\n",
    "Output: \n",
    "\n",
    "| patient_id | patient_name | conditions   |\n",
    "|------------|--------------|--------------|\n",
    "| 3          | Bob          | DIAB100 MYOP |\n",
    "| 4          | George       | ACNE DIAB100 | \n",
    "\n",
    "Explanation: Bob and George both have a condition that starts with DIAB1."
   ]
  },
  {
   "cell_type": "markdown",
   "metadata": {},
   "source": [
    "##### Solution"
   ]
  },
  {
   "cell_type": "code",
   "execution_count": null,
   "metadata": {},
   "outputs": [],
   "source": [
    "SELECT *\n",
    "FROM Patients\n",
    "WHERE conditions LIKE 'DIAB1%'\n",
    "\tOR conditions LIKE '% DIAB1%'"
   ]
  }
 ],
 "metadata": {
  "kernelspec": {
   "display_name": "Python 3.10.4 ('leetcode')",
   "language": "python",
   "name": "python3"
  },
  "language_info": {
   "codemirror_mode": {
    "name": "ipython",
    "version": 3
   },
   "file_extension": ".py",
   "mimetype": "text/x-python",
   "name": "python",
   "nbconvert_exporter": "python",
   "pygments_lexer": "ipython3",
   "version": "3.10.4"
  },
  "vscode": {
   "interpreter": {
    "hash": "21d8332eb27bea95342760850bd7426f517b6a483537194bbba87e10eeabf6ff"
   }
  }
 },
 "nbformat": 4,
 "nbformat_minor": 4
}
