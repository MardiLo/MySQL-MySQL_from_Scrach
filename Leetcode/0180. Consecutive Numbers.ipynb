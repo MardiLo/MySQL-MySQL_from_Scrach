{
 "cells": [
  {
   "cell_type": "markdown",
   "metadata": {},
   "source": [
    "`# Self-Join` `# Window Function`"
   ]
  },
  {
   "cell_type": "markdown",
   "metadata": {},
   "source": [
    "Table: Logs\n",
    "\n",
    "| Column Name | Type    |\n",
    "|-------------|---------|\n",
    "| id          | int     |\n",
    "| num         | varchar |\n",
    "\n",
    "id is the primary key for this table.  \n",
    "id is an autoincrement column."
   ]
  },
  {
   "cell_type": "markdown",
   "metadata": {},
   "source": [
    "Write an SQL query to find all numbers that appear at least three times consecutively.\n",
    "\n",
    "Return the result table in any order.\n",
    "\n",
    "The query result format is in the following example."
   ]
  },
  {
   "cell_type": "markdown",
   "metadata": {},
   "source": [
    "**Example 1:**\n",
    "\n",
    "Input:   \n",
    "Logs table:  \n",
    "\n",
    "| id | num |\n",
    "|----|-----|\n",
    "| 1  | 1   |\n",
    "| 2  | 1   |\n",
    "| 3  | 1   |\n",
    "| 4  | 2   |\n",
    "| 5  | 1   |\n",
    "| 6  | 2   |\n",
    "| 7  | 2   |\n",
    "\n",
    "Output: \n",
    "\n",
    "| ConsecutiveNums |\n",
    "|-----------------|\n",
    "| 1               |\n",
    "\n",
    "Explanation: 1 is the only number that appears consecutively for at least three times.\n"
   ]
  },
  {
   "cell_type": "markdown",
   "metadata": {},
   "source": [
    "##### Solution"
   ]
  },
  {
   "cell_type": "code",
   "execution_count": null,
   "metadata": {},
   "outputs": [],
   "source": [
    "# Use value function\n",
    "SELECT DISTINCT num ConsecutiveNums\n",
    "FROM (\n",
    "\tSELECT num, LAG(num, 1) OVER (ORDER BY id) lag1, LAG(num, 2) OVER (ORDER BY id) lag2\n",
    "\tFROM Logs\n",
    "\t) t\n",
    "WHERE num = lag1\n",
    "\tAND num = lag2\n",
    "\n",
    "# Use self-join\n",
    "SELECT DISTINCT l1.num ConsecutiveNums\n",
    "FROM Logs l1\n",
    "JOIN Logs l2 ON l1.id = l2.id - 1\n",
    "\tAND l1.num = l2.num\n",
    "JOIN Logs l3 ON l2.id = l3.id - 1\n",
    "\tAND l2.num = l3.num\n"
   ]
  }
 ],
 "metadata": {
  "kernelspec": {
   "display_name": "Python 3.10.4 ('leetcode')",
   "language": "python",
   "name": "python3"
  },
  "language_info": {
   "codemirror_mode": {
    "name": "ipython",
    "version": 3
   },
   "file_extension": ".py",
   "mimetype": "text/x-python",
   "name": "python",
   "nbconvert_exporter": "python",
   "pygments_lexer": "ipython3",
   "version": "3.10.4"
  },
  "vscode": {
   "interpreter": {
    "hash": "21d8332eb27bea95342760850bd7426f517b6a483537194bbba87e10eeabf6ff"
   }
  }
 },
 "nbformat": 4,
 "nbformat_minor": 4
}
