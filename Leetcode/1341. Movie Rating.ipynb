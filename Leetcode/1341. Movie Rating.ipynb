{
 "cells": [
  {
   "attachments": {},
   "cell_type": "markdown",
   "metadata": {},
   "source": [
    "`# Join` `# Limit` `# Union All` `# Window Function`"
   ]
  },
  {
   "attachments": {},
   "cell_type": "markdown",
   "metadata": {},
   "source": [
    "Table: Movies\n",
    "\n",
    "| Column Name   | Type    |\n",
    "|---------------|---------|\n",
    "| movie_id      | int     |\n",
    "| title         | varchar |\n",
    "\n",
    "movie_id is the primary key for this table.  \n",
    "title is the name of the movie."
   ]
  },
  {
   "attachments": {},
   "cell_type": "markdown",
   "metadata": {},
   "source": [
    "Table: Users\n",
    "\n",
    "| Column Name   | Type    |\n",
    "|---------------|---------|\n",
    "| user_id       | int     |\n",
    "| name          | varchar |\n",
    "\n",
    "user_id is the primary key for this table."
   ]
  },
  {
   "attachments": {},
   "cell_type": "markdown",
   "metadata": {},
   "source": [
    "Table: MovieRating\n",
    "\n",
    "| Column Name   | Type    |\n",
    "|---------------|---------|\n",
    "| movie_id      | int     |\n",
    "| user_id       | int     |\n",
    "| rating        | int     |\n",
    "| created_at    | date    |\n",
    "\n",
    "(movie_id, user_id) is the primary key for this table.  \n",
    "This table contains the rating of a movie by a user in their review.  \n",
    "created_at is the user's review date. "
   ]
  },
  {
   "attachments": {},
   "cell_type": "markdown",
   "metadata": {},
   "source": [
    "Write an SQL query to:\n",
    "\n",
    "- Find the name of the user who has rated the greatest number of movies. In case of a tie, return the lexicographically smaller user name.\n",
    "- Find the movie name with the **highest average** rating in `February 2020`. In case of a tie, return the lexicographically smaller movie name.\n",
    "The query result format is in the following example."
   ]
  },
  {
   "attachments": {},
   "cell_type": "markdown",
   "metadata": {},
   "source": [
    "**Example 1:**\n",
    "\n",
    "Input:   \n",
    "Movies table:\n",
    "\n",
    "| movie_id    |  title       |\n",
    "|-------------|--------------|\n",
    "| 1           | Avengers     |\n",
    "| 2           | Frozen 2     |\n",
    "| 3           | Joker        |\n",
    "\n",
    "Users table:\n",
    "\n",
    "| user_id     |  name        |\n",
    "|-------------|--------------|\n",
    "| 1           | Daniel       |\n",
    "| 2           | Monica       |\n",
    "| 3           | Maria        |\n",
    "| 4           | James        |\n",
    "\n",
    "MovieRating table:\n",
    "\n",
    "| movie_id    | user_id      | rating       | created_at  |\n",
    "|-------------|--------------|--------------|-------------|\n",
    "| 1           | 1            | 3            | 2020-01-12  |\n",
    "| 1           | 2            | 4            | 2020-02-11  |\n",
    "| 1           | 3            | 2            | 2020-02-12  |\n",
    "| 1           | 4            | 1            | 2020-01-01  |\n",
    "| 2           | 1            | 5            | 2020-02-17  | \n",
    "| 2           | 2            | 2            | 2020-02-01  | \n",
    "| 2           | 3            | 2            | 2020-03-01  |\n",
    "| 3           | 1            | 3            | 2020-02-22  | \n",
    "| 3           | 2            | 4            | 2020-02-25  | \n",
    "\n",
    "Output: \n",
    "\n",
    "| results      |\n",
    "|--------------|\n",
    "| Daniel       |\n",
    "| Frozen 2     |\n",
    "\n",
    "Explanation:   \n",
    "Daniel and Monica have rated 3 movies (\"Avengers\", \"Frozen 2\" and \"Joker\") but Daniel is smaller lexicographically.  \n",
    "Frozen 2 and Joker have a rating average of 3.5 in February but Frozen 2 is smaller lexicographically."
   ]
  },
  {
   "cell_type": "markdown",
   "metadata": {},
   "source": [
    "##### Solution"
   ]
  },
  {
   "cell_type": "code",
   "execution_count": null,
   "metadata": {},
   "outputs": [],
   "source": [
    "SELECT name results\n",
    "FROM (\n",
    "\tSELECT TOP (1) mr.user_id, u.name, COUNT(mr.rating) cnt\n",
    "\tFROM MovieRating mr\n",
    "\tJOIN Users u ON mr.user_id = u.user_id\n",
    "\tGROUP BY mr.user_id, u.name\n",
    "\tORDER BY cnt DESC, u.name\n",
    "\t) t1\n",
    "\n",
    "UNION ALL\n",
    "\n",
    "SELECT title results\n",
    "FROM (\n",
    "\tSELECT TOP (1) mr.movie_id, m.title, AVG(mr.rating * 1.0) rt\n",
    "\tFROM MovieRating mr\n",
    "\tJOIN Movies m ON mr.movie_id = m.movie_id\n",
    "\tWHERE created_at BETWEEN '2020-02-01'\n",
    "\t\t\tAND '2020-02-29'\n",
    "\tGROUP BY mr.movie_id, m.title\n",
    "\tORDER BY rt DESC, m.title\n",
    "\t) t2"
   ]
  }
 ],
 "metadata": {
  "kernelspec": {
   "display_name": "Python 3.10.4 ('leetcode')",
   "language": "python",
   "name": "python3"
  },
  "language_info": {
   "codemirror_mode": {
    "name": "ipython",
    "version": 3
   },
   "file_extension": ".py",
   "mimetype": "text/x-python",
   "name": "python",
   "nbconvert_exporter": "python",
   "pygments_lexer": "ipython3",
   "version": "3.10.4"
  },
  "vscode": {
   "interpreter": {
    "hash": "21d8332eb27bea95342760850bd7426f517b6a483537194bbba87e10eeabf6ff"
   }
  }
 },
 "nbformat": 4,
 "nbformat_minor": 4
}
